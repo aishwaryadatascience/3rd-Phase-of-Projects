{
 "cells": [
  {
   "cell_type": "markdown",
   "id": "8ea6a904",
   "metadata": {},
   "source": [
    "### IMPORTING LIBRARIES"
   ]
  },
  {
   "cell_type": "code",
   "execution_count": 1,
   "id": "31ecc99d",
   "metadata": {},
   "outputs": [],
   "source": [
    "import pandas as pd\n",
    "import numpy as np\n",
    "import seaborn as sns\n",
    "import warnings\n",
    "warnings.filterwarnings('ignore')\n",
    "import matplotlib.pyplot as plt\n",
    "%matplotlib inline\n",
    "from scipy.stats import zscore\n",
    "from sklearn.preprocessing import PowerTransformer, MinMaxScaler\n",
    "from sklearn.metrics import mean_squared_error, mean_absolute_error, r2_score\n",
    "from sklearn.model_selection import train_test_split, cross_val_score, GridSearchCV\n",
    "from sklearn.linear_model import LinearRegression, Ridge\n",
    "from sklearn.svm import SVR\n",
    "from sklearn.ensemble import RandomForestRegressor, GradientBoostingRegressor\n",
    "from sklearn.tree import DecisionTreeRegressor"
   ]
  },
  {
   "cell_type": "code",
   "execution_count": 2,
   "id": "b672c66f",
   "metadata": {},
   "outputs": [
    {
     "data": {
      "text/html": [
       "<div>\n",
       "<style scoped>\n",
       "    .dataframe tbody tr th:only-of-type {\n",
       "        vertical-align: middle;\n",
       "    }\n",
       "\n",
       "    .dataframe tbody tr th {\n",
       "        vertical-align: top;\n",
       "    }\n",
       "\n",
       "    .dataframe thead th {\n",
       "        text-align: right;\n",
       "    }\n",
       "</style>\n",
       "<table border=\"1\" class=\"dataframe\">\n",
       "  <thead>\n",
       "    <tr style=\"text-align: right;\">\n",
       "      <th></th>\n",
       "      <th>country</th>\n",
       "      <th>country_long</th>\n",
       "      <th>name</th>\n",
       "      <th>gppd_idnr</th>\n",
       "      <th>capacity_mw</th>\n",
       "      <th>latitude</th>\n",
       "      <th>longitude</th>\n",
       "      <th>primary_fuel</th>\n",
       "      <th>other_fuel1</th>\n",
       "      <th>other_fuel2</th>\n",
       "      <th>...</th>\n",
       "      <th>year_of_capacity_data</th>\n",
       "      <th>generation_gwh_2013</th>\n",
       "      <th>generation_gwh_2014</th>\n",
       "      <th>generation_gwh_2015</th>\n",
       "      <th>generation_gwh_2016</th>\n",
       "      <th>generation_gwh_2017</th>\n",
       "      <th>generation_gwh_2018</th>\n",
       "      <th>generation_gwh_2019</th>\n",
       "      <th>generation_data_source</th>\n",
       "      <th>estimated_generation_gwh</th>\n",
       "    </tr>\n",
       "  </thead>\n",
       "  <tbody>\n",
       "    <tr>\n",
       "      <th>0</th>\n",
       "      <td>IND</td>\n",
       "      <td>India</td>\n",
       "      <td>ACME Solar Tower</td>\n",
       "      <td>WRI1020239</td>\n",
       "      <td>2.5</td>\n",
       "      <td>28.1839</td>\n",
       "      <td>73.2407</td>\n",
       "      <td>Solar</td>\n",
       "      <td>NaN</td>\n",
       "      <td>NaN</td>\n",
       "      <td>...</td>\n",
       "      <td>NaN</td>\n",
       "      <td>NaN</td>\n",
       "      <td>NaN</td>\n",
       "      <td>NaN</td>\n",
       "      <td>NaN</td>\n",
       "      <td>NaN</td>\n",
       "      <td>NaN</td>\n",
       "      <td>NaN</td>\n",
       "      <td>NaN</td>\n",
       "      <td>NaN</td>\n",
       "    </tr>\n",
       "    <tr>\n",
       "      <th>1</th>\n",
       "      <td>IND</td>\n",
       "      <td>India</td>\n",
       "      <td>ADITYA CEMENT WORKS</td>\n",
       "      <td>WRI1019881</td>\n",
       "      <td>98.0</td>\n",
       "      <td>24.7663</td>\n",
       "      <td>74.6090</td>\n",
       "      <td>Coal</td>\n",
       "      <td>NaN</td>\n",
       "      <td>NaN</td>\n",
       "      <td>...</td>\n",
       "      <td>NaN</td>\n",
       "      <td>NaN</td>\n",
       "      <td>NaN</td>\n",
       "      <td>NaN</td>\n",
       "      <td>NaN</td>\n",
       "      <td>NaN</td>\n",
       "      <td>NaN</td>\n",
       "      <td>NaN</td>\n",
       "      <td>NaN</td>\n",
       "      <td>NaN</td>\n",
       "    </tr>\n",
       "    <tr>\n",
       "      <th>2</th>\n",
       "      <td>IND</td>\n",
       "      <td>India</td>\n",
       "      <td>AES Saurashtra Windfarms</td>\n",
       "      <td>WRI1026669</td>\n",
       "      <td>39.2</td>\n",
       "      <td>21.9038</td>\n",
       "      <td>69.3732</td>\n",
       "      <td>Wind</td>\n",
       "      <td>NaN</td>\n",
       "      <td>NaN</td>\n",
       "      <td>...</td>\n",
       "      <td>NaN</td>\n",
       "      <td>NaN</td>\n",
       "      <td>NaN</td>\n",
       "      <td>NaN</td>\n",
       "      <td>NaN</td>\n",
       "      <td>NaN</td>\n",
       "      <td>NaN</td>\n",
       "      <td>NaN</td>\n",
       "      <td>NaN</td>\n",
       "      <td>NaN</td>\n",
       "    </tr>\n",
       "    <tr>\n",
       "      <th>3</th>\n",
       "      <td>IND</td>\n",
       "      <td>India</td>\n",
       "      <td>AGARTALA GT</td>\n",
       "      <td>IND0000001</td>\n",
       "      <td>135.0</td>\n",
       "      <td>23.8712</td>\n",
       "      <td>91.3602</td>\n",
       "      <td>Gas</td>\n",
       "      <td>NaN</td>\n",
       "      <td>NaN</td>\n",
       "      <td>...</td>\n",
       "      <td>2019.0</td>\n",
       "      <td>NaN</td>\n",
       "      <td>617.789264</td>\n",
       "      <td>843.747000</td>\n",
       "      <td>886.004428</td>\n",
       "      <td>663.774500</td>\n",
       "      <td>626.239128</td>\n",
       "      <td>NaN</td>\n",
       "      <td>Central Electricity Authority</td>\n",
       "      <td>NaN</td>\n",
       "    </tr>\n",
       "    <tr>\n",
       "      <th>4</th>\n",
       "      <td>IND</td>\n",
       "      <td>India</td>\n",
       "      <td>AKALTARA TPP</td>\n",
       "      <td>IND0000002</td>\n",
       "      <td>1800.0</td>\n",
       "      <td>21.9603</td>\n",
       "      <td>82.4091</td>\n",
       "      <td>Coal</td>\n",
       "      <td>Oil</td>\n",
       "      <td>NaN</td>\n",
       "      <td>...</td>\n",
       "      <td>2019.0</td>\n",
       "      <td>NaN</td>\n",
       "      <td>3035.550000</td>\n",
       "      <td>5916.370000</td>\n",
       "      <td>6243.000000</td>\n",
       "      <td>5385.579736</td>\n",
       "      <td>7279.000000</td>\n",
       "      <td>NaN</td>\n",
       "      <td>Central Electricity Authority</td>\n",
       "      <td>NaN</td>\n",
       "    </tr>\n",
       "    <tr>\n",
       "      <th>...</th>\n",
       "      <td>...</td>\n",
       "      <td>...</td>\n",
       "      <td>...</td>\n",
       "      <td>...</td>\n",
       "      <td>...</td>\n",
       "      <td>...</td>\n",
       "      <td>...</td>\n",
       "      <td>...</td>\n",
       "      <td>...</td>\n",
       "      <td>...</td>\n",
       "      <td>...</td>\n",
       "      <td>...</td>\n",
       "      <td>...</td>\n",
       "      <td>...</td>\n",
       "      <td>...</td>\n",
       "      <td>...</td>\n",
       "      <td>...</td>\n",
       "      <td>...</td>\n",
       "      <td>...</td>\n",
       "      <td>...</td>\n",
       "      <td>...</td>\n",
       "    </tr>\n",
       "    <tr>\n",
       "      <th>902</th>\n",
       "      <td>IND</td>\n",
       "      <td>India</td>\n",
       "      <td>YERMARUS TPP</td>\n",
       "      <td>IND0000513</td>\n",
       "      <td>1600.0</td>\n",
       "      <td>16.2949</td>\n",
       "      <td>77.3568</td>\n",
       "      <td>Coal</td>\n",
       "      <td>Oil</td>\n",
       "      <td>NaN</td>\n",
       "      <td>...</td>\n",
       "      <td>2019.0</td>\n",
       "      <td>NaN</td>\n",
       "      <td>NaN</td>\n",
       "      <td>0.994875</td>\n",
       "      <td>233.596650</td>\n",
       "      <td>865.400000</td>\n",
       "      <td>686.500000</td>\n",
       "      <td>NaN</td>\n",
       "      <td>Central Electricity Authority</td>\n",
       "      <td>NaN</td>\n",
       "    </tr>\n",
       "    <tr>\n",
       "      <th>903</th>\n",
       "      <td>IND</td>\n",
       "      <td>India</td>\n",
       "      <td>Yelesandra Solar Power Plant</td>\n",
       "      <td>WRI1026222</td>\n",
       "      <td>3.0</td>\n",
       "      <td>12.8932</td>\n",
       "      <td>78.1654</td>\n",
       "      <td>Solar</td>\n",
       "      <td>NaN</td>\n",
       "      <td>NaN</td>\n",
       "      <td>...</td>\n",
       "      <td>NaN</td>\n",
       "      <td>NaN</td>\n",
       "      <td>NaN</td>\n",
       "      <td>NaN</td>\n",
       "      <td>NaN</td>\n",
       "      <td>NaN</td>\n",
       "      <td>NaN</td>\n",
       "      <td>NaN</td>\n",
       "      <td>NaN</td>\n",
       "      <td>NaN</td>\n",
       "    </tr>\n",
       "    <tr>\n",
       "      <th>904</th>\n",
       "      <td>IND</td>\n",
       "      <td>India</td>\n",
       "      <td>Yelisirur wind power project</td>\n",
       "      <td>WRI1026776</td>\n",
       "      <td>25.5</td>\n",
       "      <td>15.2758</td>\n",
       "      <td>75.5811</td>\n",
       "      <td>Wind</td>\n",
       "      <td>NaN</td>\n",
       "      <td>NaN</td>\n",
       "      <td>...</td>\n",
       "      <td>NaN</td>\n",
       "      <td>NaN</td>\n",
       "      <td>NaN</td>\n",
       "      <td>NaN</td>\n",
       "      <td>NaN</td>\n",
       "      <td>NaN</td>\n",
       "      <td>NaN</td>\n",
       "      <td>NaN</td>\n",
       "      <td>NaN</td>\n",
       "      <td>NaN</td>\n",
       "    </tr>\n",
       "    <tr>\n",
       "      <th>905</th>\n",
       "      <td>IND</td>\n",
       "      <td>India</td>\n",
       "      <td>ZAWAR MINES</td>\n",
       "      <td>WRI1019901</td>\n",
       "      <td>80.0</td>\n",
       "      <td>24.3500</td>\n",
       "      <td>73.7477</td>\n",
       "      <td>Coal</td>\n",
       "      <td>NaN</td>\n",
       "      <td>NaN</td>\n",
       "      <td>...</td>\n",
       "      <td>NaN</td>\n",
       "      <td>NaN</td>\n",
       "      <td>NaN</td>\n",
       "      <td>NaN</td>\n",
       "      <td>NaN</td>\n",
       "      <td>NaN</td>\n",
       "      <td>NaN</td>\n",
       "      <td>NaN</td>\n",
       "      <td>NaN</td>\n",
       "      <td>NaN</td>\n",
       "    </tr>\n",
       "    <tr>\n",
       "      <th>906</th>\n",
       "      <td>IND</td>\n",
       "      <td>India</td>\n",
       "      <td>iEnergy Theni Wind Farm</td>\n",
       "      <td>WRI1026761</td>\n",
       "      <td>16.5</td>\n",
       "      <td>9.9344</td>\n",
       "      <td>77.4768</td>\n",
       "      <td>Wind</td>\n",
       "      <td>NaN</td>\n",
       "      <td>NaN</td>\n",
       "      <td>...</td>\n",
       "      <td>NaN</td>\n",
       "      <td>NaN</td>\n",
       "      <td>NaN</td>\n",
       "      <td>NaN</td>\n",
       "      <td>NaN</td>\n",
       "      <td>NaN</td>\n",
       "      <td>NaN</td>\n",
       "      <td>NaN</td>\n",
       "      <td>NaN</td>\n",
       "      <td>NaN</td>\n",
       "    </tr>\n",
       "  </tbody>\n",
       "</table>\n",
       "<p>907 rows × 27 columns</p>\n",
       "</div>"
      ],
      "text/plain": [
       "    country country_long                          name   gppd_idnr  \\\n",
       "0       IND        India              ACME Solar Tower  WRI1020239   \n",
       "1       IND        India           ADITYA CEMENT WORKS  WRI1019881   \n",
       "2       IND        India      AES Saurashtra Windfarms  WRI1026669   \n",
       "3       IND        India                   AGARTALA GT  IND0000001   \n",
       "4       IND        India                  AKALTARA TPP  IND0000002   \n",
       "..      ...          ...                           ...         ...   \n",
       "902     IND        India                  YERMARUS TPP  IND0000513   \n",
       "903     IND        India  Yelesandra Solar Power Plant  WRI1026222   \n",
       "904     IND        India  Yelisirur wind power project  WRI1026776   \n",
       "905     IND        India                   ZAWAR MINES  WRI1019901   \n",
       "906     IND        India       iEnergy Theni Wind Farm  WRI1026761   \n",
       "\n",
       "     capacity_mw  latitude  longitude primary_fuel other_fuel1 other_fuel2  \\\n",
       "0            2.5   28.1839    73.2407        Solar         NaN         NaN   \n",
       "1           98.0   24.7663    74.6090         Coal         NaN         NaN   \n",
       "2           39.2   21.9038    69.3732         Wind         NaN         NaN   \n",
       "3          135.0   23.8712    91.3602          Gas         NaN         NaN   \n",
       "4         1800.0   21.9603    82.4091         Coal         Oil         NaN   \n",
       "..           ...       ...        ...          ...         ...         ...   \n",
       "902       1600.0   16.2949    77.3568         Coal         Oil         NaN   \n",
       "903          3.0   12.8932    78.1654        Solar         NaN         NaN   \n",
       "904         25.5   15.2758    75.5811         Wind         NaN         NaN   \n",
       "905         80.0   24.3500    73.7477         Coal         NaN         NaN   \n",
       "906         16.5    9.9344    77.4768         Wind         NaN         NaN   \n",
       "\n",
       "     ...  year_of_capacity_data  generation_gwh_2013 generation_gwh_2014  \\\n",
       "0    ...                    NaN                  NaN                 NaN   \n",
       "1    ...                    NaN                  NaN                 NaN   \n",
       "2    ...                    NaN                  NaN                 NaN   \n",
       "3    ...                 2019.0                  NaN          617.789264   \n",
       "4    ...                 2019.0                  NaN         3035.550000   \n",
       "..   ...                    ...                  ...                 ...   \n",
       "902  ...                 2019.0                  NaN                 NaN   \n",
       "903  ...                    NaN                  NaN                 NaN   \n",
       "904  ...                    NaN                  NaN                 NaN   \n",
       "905  ...                    NaN                  NaN                 NaN   \n",
       "906  ...                    NaN                  NaN                 NaN   \n",
       "\n",
       "    generation_gwh_2015 generation_gwh_2016 generation_gwh_2017  \\\n",
       "0                   NaN                 NaN                 NaN   \n",
       "1                   NaN                 NaN                 NaN   \n",
       "2                   NaN                 NaN                 NaN   \n",
       "3            843.747000          886.004428          663.774500   \n",
       "4           5916.370000         6243.000000         5385.579736   \n",
       "..                  ...                 ...                 ...   \n",
       "902            0.994875          233.596650          865.400000   \n",
       "903                 NaN                 NaN                 NaN   \n",
       "904                 NaN                 NaN                 NaN   \n",
       "905                 NaN                 NaN                 NaN   \n",
       "906                 NaN                 NaN                 NaN   \n",
       "\n",
       "     generation_gwh_2018  generation_gwh_2019         generation_data_source  \\\n",
       "0                    NaN                  NaN                            NaN   \n",
       "1                    NaN                  NaN                            NaN   \n",
       "2                    NaN                  NaN                            NaN   \n",
       "3             626.239128                  NaN  Central Electricity Authority   \n",
       "4            7279.000000                  NaN  Central Electricity Authority   \n",
       "..                   ...                  ...                            ...   \n",
       "902           686.500000                  NaN  Central Electricity Authority   \n",
       "903                  NaN                  NaN                            NaN   \n",
       "904                  NaN                  NaN                            NaN   \n",
       "905                  NaN                  NaN                            NaN   \n",
       "906                  NaN                  NaN                            NaN   \n",
       "\n",
       "     estimated_generation_gwh  \n",
       "0                         NaN  \n",
       "1                         NaN  \n",
       "2                         NaN  \n",
       "3                         NaN  \n",
       "4                         NaN  \n",
       "..                        ...  \n",
       "902                       NaN  \n",
       "903                       NaN  \n",
       "904                       NaN  \n",
       "905                       NaN  \n",
       "906                       NaN  \n",
       "\n",
       "[907 rows x 27 columns]"
      ]
     },
     "execution_count": 2,
     "metadata": {},
     "output_type": "execute_result"
    }
   ],
   "source": [
    "gpp= pd.read_csv('https://raw.githubusercontent.com/wri/global-power-plant-database/master/source_databases_csv/database_IND.csv')\n",
    "gpp"
   ]
  },
  {
   "cell_type": "code",
   "execution_count": 3,
   "id": "23c838c7",
   "metadata": {},
   "outputs": [
    {
     "data": {
      "text/html": [
       "<div>\n",
       "<style scoped>\n",
       "    .dataframe tbody tr th:only-of-type {\n",
       "        vertical-align: middle;\n",
       "    }\n",
       "\n",
       "    .dataframe tbody tr th {\n",
       "        vertical-align: top;\n",
       "    }\n",
       "\n",
       "    .dataframe thead th {\n",
       "        text-align: right;\n",
       "    }\n",
       "</style>\n",
       "<table border=\"1\" class=\"dataframe\">\n",
       "  <thead>\n",
       "    <tr style=\"text-align: right;\">\n",
       "      <th></th>\n",
       "      <th>country</th>\n",
       "      <th>country_long</th>\n",
       "      <th>name</th>\n",
       "      <th>gppd_idnr</th>\n",
       "      <th>capacity_mw</th>\n",
       "      <th>latitude</th>\n",
       "      <th>longitude</th>\n",
       "      <th>primary_fuel</th>\n",
       "      <th>other_fuel1</th>\n",
       "      <th>other_fuel2</th>\n",
       "      <th>...</th>\n",
       "      <th>year_of_capacity_data</th>\n",
       "      <th>generation_gwh_2013</th>\n",
       "      <th>generation_gwh_2014</th>\n",
       "      <th>generation_gwh_2015</th>\n",
       "      <th>generation_gwh_2016</th>\n",
       "      <th>generation_gwh_2017</th>\n",
       "      <th>generation_gwh_2018</th>\n",
       "      <th>generation_gwh_2019</th>\n",
       "      <th>generation_data_source</th>\n",
       "      <th>estimated_generation_gwh</th>\n",
       "    </tr>\n",
       "  </thead>\n",
       "  <tbody>\n",
       "    <tr>\n",
       "      <th>0</th>\n",
       "      <td>IND</td>\n",
       "      <td>India</td>\n",
       "      <td>ACME Solar Tower</td>\n",
       "      <td>WRI1020239</td>\n",
       "      <td>2.5</td>\n",
       "      <td>28.1839</td>\n",
       "      <td>73.2407</td>\n",
       "      <td>Solar</td>\n",
       "      <td>NaN</td>\n",
       "      <td>NaN</td>\n",
       "      <td>...</td>\n",
       "      <td>NaN</td>\n",
       "      <td>NaN</td>\n",
       "      <td>NaN</td>\n",
       "      <td>NaN</td>\n",
       "      <td>NaN</td>\n",
       "      <td>NaN</td>\n",
       "      <td>NaN</td>\n",
       "      <td>NaN</td>\n",
       "      <td>NaN</td>\n",
       "      <td>NaN</td>\n",
       "    </tr>\n",
       "    <tr>\n",
       "      <th>1</th>\n",
       "      <td>IND</td>\n",
       "      <td>India</td>\n",
       "      <td>ADITYA CEMENT WORKS</td>\n",
       "      <td>WRI1019881</td>\n",
       "      <td>98.0</td>\n",
       "      <td>24.7663</td>\n",
       "      <td>74.6090</td>\n",
       "      <td>Coal</td>\n",
       "      <td>NaN</td>\n",
       "      <td>NaN</td>\n",
       "      <td>...</td>\n",
       "      <td>NaN</td>\n",
       "      <td>NaN</td>\n",
       "      <td>NaN</td>\n",
       "      <td>NaN</td>\n",
       "      <td>NaN</td>\n",
       "      <td>NaN</td>\n",
       "      <td>NaN</td>\n",
       "      <td>NaN</td>\n",
       "      <td>NaN</td>\n",
       "      <td>NaN</td>\n",
       "    </tr>\n",
       "    <tr>\n",
       "      <th>2</th>\n",
       "      <td>IND</td>\n",
       "      <td>India</td>\n",
       "      <td>AES Saurashtra Windfarms</td>\n",
       "      <td>WRI1026669</td>\n",
       "      <td>39.2</td>\n",
       "      <td>21.9038</td>\n",
       "      <td>69.3732</td>\n",
       "      <td>Wind</td>\n",
       "      <td>NaN</td>\n",
       "      <td>NaN</td>\n",
       "      <td>...</td>\n",
       "      <td>NaN</td>\n",
       "      <td>NaN</td>\n",
       "      <td>NaN</td>\n",
       "      <td>NaN</td>\n",
       "      <td>NaN</td>\n",
       "      <td>NaN</td>\n",
       "      <td>NaN</td>\n",
       "      <td>NaN</td>\n",
       "      <td>NaN</td>\n",
       "      <td>NaN</td>\n",
       "    </tr>\n",
       "    <tr>\n",
       "      <th>3</th>\n",
       "      <td>IND</td>\n",
       "      <td>India</td>\n",
       "      <td>AGARTALA GT</td>\n",
       "      <td>IND0000001</td>\n",
       "      <td>135.0</td>\n",
       "      <td>23.8712</td>\n",
       "      <td>91.3602</td>\n",
       "      <td>Gas</td>\n",
       "      <td>NaN</td>\n",
       "      <td>NaN</td>\n",
       "      <td>...</td>\n",
       "      <td>2019.0</td>\n",
       "      <td>NaN</td>\n",
       "      <td>617.789264</td>\n",
       "      <td>843.747</td>\n",
       "      <td>886.004428</td>\n",
       "      <td>663.774500</td>\n",
       "      <td>626.239128</td>\n",
       "      <td>NaN</td>\n",
       "      <td>Central Electricity Authority</td>\n",
       "      <td>NaN</td>\n",
       "    </tr>\n",
       "    <tr>\n",
       "      <th>4</th>\n",
       "      <td>IND</td>\n",
       "      <td>India</td>\n",
       "      <td>AKALTARA TPP</td>\n",
       "      <td>IND0000002</td>\n",
       "      <td>1800.0</td>\n",
       "      <td>21.9603</td>\n",
       "      <td>82.4091</td>\n",
       "      <td>Coal</td>\n",
       "      <td>Oil</td>\n",
       "      <td>NaN</td>\n",
       "      <td>...</td>\n",
       "      <td>2019.0</td>\n",
       "      <td>NaN</td>\n",
       "      <td>3035.550000</td>\n",
       "      <td>5916.370</td>\n",
       "      <td>6243.000000</td>\n",
       "      <td>5385.579736</td>\n",
       "      <td>7279.000000</td>\n",
       "      <td>NaN</td>\n",
       "      <td>Central Electricity Authority</td>\n",
       "      <td>NaN</td>\n",
       "    </tr>\n",
       "  </tbody>\n",
       "</table>\n",
       "<p>5 rows × 27 columns</p>\n",
       "</div>"
      ],
      "text/plain": [
       "  country country_long                      name   gppd_idnr  capacity_mw  \\\n",
       "0     IND        India          ACME Solar Tower  WRI1020239          2.5   \n",
       "1     IND        India       ADITYA CEMENT WORKS  WRI1019881         98.0   \n",
       "2     IND        India  AES Saurashtra Windfarms  WRI1026669         39.2   \n",
       "3     IND        India               AGARTALA GT  IND0000001        135.0   \n",
       "4     IND        India              AKALTARA TPP  IND0000002       1800.0   \n",
       "\n",
       "   latitude  longitude primary_fuel other_fuel1 other_fuel2  ...  \\\n",
       "0   28.1839    73.2407        Solar         NaN         NaN  ...   \n",
       "1   24.7663    74.6090         Coal         NaN         NaN  ...   \n",
       "2   21.9038    69.3732         Wind         NaN         NaN  ...   \n",
       "3   23.8712    91.3602          Gas         NaN         NaN  ...   \n",
       "4   21.9603    82.4091         Coal         Oil         NaN  ...   \n",
       "\n",
       "   year_of_capacity_data  generation_gwh_2013 generation_gwh_2014  \\\n",
       "0                    NaN                  NaN                 NaN   \n",
       "1                    NaN                  NaN                 NaN   \n",
       "2                    NaN                  NaN                 NaN   \n",
       "3                 2019.0                  NaN          617.789264   \n",
       "4                 2019.0                  NaN         3035.550000   \n",
       "\n",
       "  generation_gwh_2015 generation_gwh_2016 generation_gwh_2017  \\\n",
       "0                 NaN                 NaN                 NaN   \n",
       "1                 NaN                 NaN                 NaN   \n",
       "2                 NaN                 NaN                 NaN   \n",
       "3             843.747          886.004428          663.774500   \n",
       "4            5916.370         6243.000000         5385.579736   \n",
       "\n",
       "   generation_gwh_2018  generation_gwh_2019         generation_data_source  \\\n",
       "0                  NaN                  NaN                            NaN   \n",
       "1                  NaN                  NaN                            NaN   \n",
       "2                  NaN                  NaN                            NaN   \n",
       "3           626.239128                  NaN  Central Electricity Authority   \n",
       "4          7279.000000                  NaN  Central Electricity Authority   \n",
       "\n",
       "   estimated_generation_gwh  \n",
       "0                       NaN  \n",
       "1                       NaN  \n",
       "2                       NaN  \n",
       "3                       NaN  \n",
       "4                       NaN  \n",
       "\n",
       "[5 rows x 27 columns]"
      ]
     },
     "execution_count": 3,
     "metadata": {},
     "output_type": "execute_result"
    }
   ],
   "source": [
    "gpp.head()"
   ]
  },
  {
   "cell_type": "code",
   "execution_count": 4,
   "id": "ff24fb1d",
   "metadata": {},
   "outputs": [
    {
     "data": {
      "text/html": [
       "<div>\n",
       "<style scoped>\n",
       "    .dataframe tbody tr th:only-of-type {\n",
       "        vertical-align: middle;\n",
       "    }\n",
       "\n",
       "    .dataframe tbody tr th {\n",
       "        vertical-align: top;\n",
       "    }\n",
       "\n",
       "    .dataframe thead th {\n",
       "        text-align: right;\n",
       "    }\n",
       "</style>\n",
       "<table border=\"1\" class=\"dataframe\">\n",
       "  <thead>\n",
       "    <tr style=\"text-align: right;\">\n",
       "      <th></th>\n",
       "      <th>country</th>\n",
       "      <th>country_long</th>\n",
       "      <th>name</th>\n",
       "      <th>gppd_idnr</th>\n",
       "      <th>capacity_mw</th>\n",
       "      <th>latitude</th>\n",
       "      <th>longitude</th>\n",
       "      <th>primary_fuel</th>\n",
       "      <th>other_fuel1</th>\n",
       "      <th>other_fuel2</th>\n",
       "      <th>...</th>\n",
       "      <th>year_of_capacity_data</th>\n",
       "      <th>generation_gwh_2013</th>\n",
       "      <th>generation_gwh_2014</th>\n",
       "      <th>generation_gwh_2015</th>\n",
       "      <th>generation_gwh_2016</th>\n",
       "      <th>generation_gwh_2017</th>\n",
       "      <th>generation_gwh_2018</th>\n",
       "      <th>generation_gwh_2019</th>\n",
       "      <th>generation_data_source</th>\n",
       "      <th>estimated_generation_gwh</th>\n",
       "    </tr>\n",
       "  </thead>\n",
       "  <tbody>\n",
       "    <tr>\n",
       "      <th>902</th>\n",
       "      <td>IND</td>\n",
       "      <td>India</td>\n",
       "      <td>YERMARUS TPP</td>\n",
       "      <td>IND0000513</td>\n",
       "      <td>1600.0</td>\n",
       "      <td>16.2949</td>\n",
       "      <td>77.3568</td>\n",
       "      <td>Coal</td>\n",
       "      <td>Oil</td>\n",
       "      <td>NaN</td>\n",
       "      <td>...</td>\n",
       "      <td>2019.0</td>\n",
       "      <td>NaN</td>\n",
       "      <td>NaN</td>\n",
       "      <td>0.994875</td>\n",
       "      <td>233.59665</td>\n",
       "      <td>865.4</td>\n",
       "      <td>686.5</td>\n",
       "      <td>NaN</td>\n",
       "      <td>Central Electricity Authority</td>\n",
       "      <td>NaN</td>\n",
       "    </tr>\n",
       "    <tr>\n",
       "      <th>903</th>\n",
       "      <td>IND</td>\n",
       "      <td>India</td>\n",
       "      <td>Yelesandra Solar Power Plant</td>\n",
       "      <td>WRI1026222</td>\n",
       "      <td>3.0</td>\n",
       "      <td>12.8932</td>\n",
       "      <td>78.1654</td>\n",
       "      <td>Solar</td>\n",
       "      <td>NaN</td>\n",
       "      <td>NaN</td>\n",
       "      <td>...</td>\n",
       "      <td>NaN</td>\n",
       "      <td>NaN</td>\n",
       "      <td>NaN</td>\n",
       "      <td>NaN</td>\n",
       "      <td>NaN</td>\n",
       "      <td>NaN</td>\n",
       "      <td>NaN</td>\n",
       "      <td>NaN</td>\n",
       "      <td>NaN</td>\n",
       "      <td>NaN</td>\n",
       "    </tr>\n",
       "    <tr>\n",
       "      <th>904</th>\n",
       "      <td>IND</td>\n",
       "      <td>India</td>\n",
       "      <td>Yelisirur wind power project</td>\n",
       "      <td>WRI1026776</td>\n",
       "      <td>25.5</td>\n",
       "      <td>15.2758</td>\n",
       "      <td>75.5811</td>\n",
       "      <td>Wind</td>\n",
       "      <td>NaN</td>\n",
       "      <td>NaN</td>\n",
       "      <td>...</td>\n",
       "      <td>NaN</td>\n",
       "      <td>NaN</td>\n",
       "      <td>NaN</td>\n",
       "      <td>NaN</td>\n",
       "      <td>NaN</td>\n",
       "      <td>NaN</td>\n",
       "      <td>NaN</td>\n",
       "      <td>NaN</td>\n",
       "      <td>NaN</td>\n",
       "      <td>NaN</td>\n",
       "    </tr>\n",
       "    <tr>\n",
       "      <th>905</th>\n",
       "      <td>IND</td>\n",
       "      <td>India</td>\n",
       "      <td>ZAWAR MINES</td>\n",
       "      <td>WRI1019901</td>\n",
       "      <td>80.0</td>\n",
       "      <td>24.3500</td>\n",
       "      <td>73.7477</td>\n",
       "      <td>Coal</td>\n",
       "      <td>NaN</td>\n",
       "      <td>NaN</td>\n",
       "      <td>...</td>\n",
       "      <td>NaN</td>\n",
       "      <td>NaN</td>\n",
       "      <td>NaN</td>\n",
       "      <td>NaN</td>\n",
       "      <td>NaN</td>\n",
       "      <td>NaN</td>\n",
       "      <td>NaN</td>\n",
       "      <td>NaN</td>\n",
       "      <td>NaN</td>\n",
       "      <td>NaN</td>\n",
       "    </tr>\n",
       "    <tr>\n",
       "      <th>906</th>\n",
       "      <td>IND</td>\n",
       "      <td>India</td>\n",
       "      <td>iEnergy Theni Wind Farm</td>\n",
       "      <td>WRI1026761</td>\n",
       "      <td>16.5</td>\n",
       "      <td>9.9344</td>\n",
       "      <td>77.4768</td>\n",
       "      <td>Wind</td>\n",
       "      <td>NaN</td>\n",
       "      <td>NaN</td>\n",
       "      <td>...</td>\n",
       "      <td>NaN</td>\n",
       "      <td>NaN</td>\n",
       "      <td>NaN</td>\n",
       "      <td>NaN</td>\n",
       "      <td>NaN</td>\n",
       "      <td>NaN</td>\n",
       "      <td>NaN</td>\n",
       "      <td>NaN</td>\n",
       "      <td>NaN</td>\n",
       "      <td>NaN</td>\n",
       "    </tr>\n",
       "  </tbody>\n",
       "</table>\n",
       "<p>5 rows × 27 columns</p>\n",
       "</div>"
      ],
      "text/plain": [
       "    country country_long                          name   gppd_idnr  \\\n",
       "902     IND        India                  YERMARUS TPP  IND0000513   \n",
       "903     IND        India  Yelesandra Solar Power Plant  WRI1026222   \n",
       "904     IND        India  Yelisirur wind power project  WRI1026776   \n",
       "905     IND        India                   ZAWAR MINES  WRI1019901   \n",
       "906     IND        India       iEnergy Theni Wind Farm  WRI1026761   \n",
       "\n",
       "     capacity_mw  latitude  longitude primary_fuel other_fuel1 other_fuel2  \\\n",
       "902       1600.0   16.2949    77.3568         Coal         Oil         NaN   \n",
       "903          3.0   12.8932    78.1654        Solar         NaN         NaN   \n",
       "904         25.5   15.2758    75.5811         Wind         NaN         NaN   \n",
       "905         80.0   24.3500    73.7477         Coal         NaN         NaN   \n",
       "906         16.5    9.9344    77.4768         Wind         NaN         NaN   \n",
       "\n",
       "     ...  year_of_capacity_data  generation_gwh_2013 generation_gwh_2014  \\\n",
       "902  ...                 2019.0                  NaN                 NaN   \n",
       "903  ...                    NaN                  NaN                 NaN   \n",
       "904  ...                    NaN                  NaN                 NaN   \n",
       "905  ...                    NaN                  NaN                 NaN   \n",
       "906  ...                    NaN                  NaN                 NaN   \n",
       "\n",
       "    generation_gwh_2015 generation_gwh_2016 generation_gwh_2017  \\\n",
       "902            0.994875           233.59665               865.4   \n",
       "903                 NaN                 NaN                 NaN   \n",
       "904                 NaN                 NaN                 NaN   \n",
       "905                 NaN                 NaN                 NaN   \n",
       "906                 NaN                 NaN                 NaN   \n",
       "\n",
       "     generation_gwh_2018  generation_gwh_2019         generation_data_source  \\\n",
       "902                686.5                  NaN  Central Electricity Authority   \n",
       "903                  NaN                  NaN                            NaN   \n",
       "904                  NaN                  NaN                            NaN   \n",
       "905                  NaN                  NaN                            NaN   \n",
       "906                  NaN                  NaN                            NaN   \n",
       "\n",
       "     estimated_generation_gwh  \n",
       "902                       NaN  \n",
       "903                       NaN  \n",
       "904                       NaN  \n",
       "905                       NaN  \n",
       "906                       NaN  \n",
       "\n",
       "[5 rows x 27 columns]"
      ]
     },
     "execution_count": 4,
     "metadata": {},
     "output_type": "execute_result"
    }
   ],
   "source": [
    "gpp.tail()"
   ]
  },
  {
   "cell_type": "code",
   "execution_count": 5,
   "id": "ef679e24",
   "metadata": {},
   "outputs": [
    {
     "data": {
      "text/plain": [
       "(907, 27)"
      ]
     },
     "execution_count": 5,
     "metadata": {},
     "output_type": "execute_result"
    }
   ],
   "source": [
    "gpp.shape"
   ]
  },
  {
   "cell_type": "code",
   "execution_count": 6,
   "id": "cd943a91",
   "metadata": {},
   "outputs": [
    {
     "data": {
      "text/plain": [
       "country                       0\n",
       "country_long                  0\n",
       "name                          0\n",
       "gppd_idnr                     0\n",
       "capacity_mw                   0\n",
       "latitude                     46\n",
       "longitude                    46\n",
       "primary_fuel                  0\n",
       "other_fuel1                 709\n",
       "other_fuel2                 906\n",
       "other_fuel3                 907\n",
       "commissioning_year          380\n",
       "owner                       565\n",
       "source                        0\n",
       "url                           0\n",
       "geolocation_source           19\n",
       "wepp_id                     907\n",
       "year_of_capacity_data       388\n",
       "generation_gwh_2013         907\n",
       "generation_gwh_2014         509\n",
       "generation_gwh_2015         485\n",
       "generation_gwh_2016         473\n",
       "generation_gwh_2017         467\n",
       "generation_gwh_2018         459\n",
       "generation_gwh_2019         907\n",
       "generation_data_source      458\n",
       "estimated_generation_gwh    907\n",
       "dtype: int64"
      ]
     },
     "execution_count": 6,
     "metadata": {},
     "output_type": "execute_result"
    }
   ],
   "source": [
    "gpp.isnull().sum()"
   ]
  },
  {
   "cell_type": "code",
   "execution_count": 7,
   "id": "aa4f96b1",
   "metadata": {},
   "outputs": [
    {
     "name": "stdout",
     "output_type": "stream",
     "text": [
      "<class 'pandas.core.frame.DataFrame'>\n",
      "RangeIndex: 907 entries, 0 to 906\n",
      "Data columns (total 27 columns):\n",
      " #   Column                    Non-Null Count  Dtype  \n",
      "---  ------                    --------------  -----  \n",
      " 0   country                   907 non-null    object \n",
      " 1   country_long              907 non-null    object \n",
      " 2   name                      907 non-null    object \n",
      " 3   gppd_idnr                 907 non-null    object \n",
      " 4   capacity_mw               907 non-null    float64\n",
      " 5   latitude                  861 non-null    float64\n",
      " 6   longitude                 861 non-null    float64\n",
      " 7   primary_fuel              907 non-null    object \n",
      " 8   other_fuel1               198 non-null    object \n",
      " 9   other_fuel2               1 non-null      object \n",
      " 10  other_fuel3               0 non-null      float64\n",
      " 11  commissioning_year        527 non-null    float64\n",
      " 12  owner                     342 non-null    object \n",
      " 13  source                    907 non-null    object \n",
      " 14  url                       907 non-null    object \n",
      " 15  geolocation_source        888 non-null    object \n",
      " 16  wepp_id                   0 non-null      float64\n",
      " 17  year_of_capacity_data     519 non-null    float64\n",
      " 18  generation_gwh_2013       0 non-null      float64\n",
      " 19  generation_gwh_2014       398 non-null    float64\n",
      " 20  generation_gwh_2015       422 non-null    float64\n",
      " 21  generation_gwh_2016       434 non-null    float64\n",
      " 22  generation_gwh_2017       440 non-null    float64\n",
      " 23  generation_gwh_2018       448 non-null    float64\n",
      " 24  generation_gwh_2019       0 non-null      float64\n",
      " 25  generation_data_source    449 non-null    object \n",
      " 26  estimated_generation_gwh  0 non-null      float64\n",
      "dtypes: float64(15), object(12)\n",
      "memory usage: 191.4+ KB\n"
     ]
    }
   ],
   "source": [
    "gpp.info()"
   ]
  },
  {
   "cell_type": "markdown",
   "id": "ae3016b0",
   "metadata": {},
   "source": [
    "There are 12 objects and 16 numerical columns in data"
   ]
  },
  {
   "cell_type": "markdown",
   "id": "37ed9f07",
   "metadata": {},
   "source": [
    "We need to remove some columns that having maximum number of null values because if we fill those values, prediction will not be correct."
   ]
  },
  {
   "cell_type": "code",
   "execution_count": 8,
   "id": "ef9e1639",
   "metadata": {},
   "outputs": [],
   "source": [
    "gpp.drop(['estimated_generation_gwh', 'generation_gwh_2019', 'generation_gwh_2013', 'wepp_id', 'other_fuel3', 'other_fuel2', 'other_fuel1'], axis=1, inplace= True)"
   ]
  },
  {
   "cell_type": "code",
   "execution_count": 9,
   "id": "4f1a45cd",
   "metadata": {},
   "outputs": [
    {
     "data": {
      "text/plain": [
       "country                     0\n",
       "country_long                0\n",
       "name                        0\n",
       "gppd_idnr                   0\n",
       "capacity_mw                 0\n",
       "latitude                   46\n",
       "longitude                  46\n",
       "primary_fuel                0\n",
       "commissioning_year        380\n",
       "owner                     565\n",
       "source                      0\n",
       "url                         0\n",
       "geolocation_source         19\n",
       "year_of_capacity_data     388\n",
       "generation_gwh_2014       509\n",
       "generation_gwh_2015       485\n",
       "generation_gwh_2016       473\n",
       "generation_gwh_2017       467\n",
       "generation_gwh_2018       459\n",
       "generation_data_source    458\n",
       "dtype: int64"
      ]
     },
     "execution_count": 9,
     "metadata": {},
     "output_type": "execute_result"
    }
   ],
   "source": [
    "gpp.isnull().sum()"
   ]
  },
  {
   "cell_type": "markdown",
   "id": "e93c1b67",
   "metadata": {},
   "source": [
    "Removing unwanted columns"
   ]
  },
  {
   "cell_type": "code",
   "execution_count": 10,
   "id": "e363015b",
   "metadata": {},
   "outputs": [],
   "source": [
    "gpp.drop(['gppd_idnr', 'owner', 'generation_data_source', 'name', 'url'], axis=1, inplace= True)"
   ]
  },
  {
   "cell_type": "code",
   "execution_count": 11,
   "id": "fdde2378",
   "metadata": {},
   "outputs": [
    {
     "data": {
      "text/plain": [
       "country                    0\n",
       "country_long               0\n",
       "capacity_mw                0\n",
       "latitude                  46\n",
       "longitude                 46\n",
       "primary_fuel               0\n",
       "commissioning_year       380\n",
       "source                     0\n",
       "geolocation_source        19\n",
       "year_of_capacity_data    388\n",
       "generation_gwh_2014      509\n",
       "generation_gwh_2015      485\n",
       "generation_gwh_2016      473\n",
       "generation_gwh_2017      467\n",
       "generation_gwh_2018      459\n",
       "dtype: int64"
      ]
     },
     "execution_count": 11,
     "metadata": {},
     "output_type": "execute_result"
    }
   ],
   "source": [
    "gpp.isnull().sum()"
   ]
  },
  {
   "cell_type": "code",
   "execution_count": 12,
   "id": "85c8c161",
   "metadata": {},
   "outputs": [
    {
     "data": {
      "text/html": [
       "<div>\n",
       "<style scoped>\n",
       "    .dataframe tbody tr th:only-of-type {\n",
       "        vertical-align: middle;\n",
       "    }\n",
       "\n",
       "    .dataframe tbody tr th {\n",
       "        vertical-align: top;\n",
       "    }\n",
       "\n",
       "    .dataframe thead th {\n",
       "        text-align: right;\n",
       "    }\n",
       "</style>\n",
       "<table border=\"1\" class=\"dataframe\">\n",
       "  <thead>\n",
       "    <tr style=\"text-align: right;\">\n",
       "      <th></th>\n",
       "      <th>capacity_mw</th>\n",
       "      <th>latitude</th>\n",
       "      <th>longitude</th>\n",
       "      <th>commissioning_year</th>\n",
       "      <th>year_of_capacity_data</th>\n",
       "      <th>generation_gwh_2014</th>\n",
       "      <th>generation_gwh_2015</th>\n",
       "      <th>generation_gwh_2016</th>\n",
       "      <th>generation_gwh_2017</th>\n",
       "      <th>generation_gwh_2018</th>\n",
       "    </tr>\n",
       "  </thead>\n",
       "  <tbody>\n",
       "    <tr>\n",
       "      <th>count</th>\n",
       "      <td>907.000000</td>\n",
       "      <td>861.000000</td>\n",
       "      <td>861.000000</td>\n",
       "      <td>527.000000</td>\n",
       "      <td>519.0</td>\n",
       "      <td>398.000000</td>\n",
       "      <td>422.000000</td>\n",
       "      <td>434.000000</td>\n",
       "      <td>440.000000</td>\n",
       "      <td>448.000000</td>\n",
       "    </tr>\n",
       "    <tr>\n",
       "      <th>mean</th>\n",
       "      <td>326.223755</td>\n",
       "      <td>21.197918</td>\n",
       "      <td>77.464907</td>\n",
       "      <td>1997.091082</td>\n",
       "      <td>2019.0</td>\n",
       "      <td>2431.823590</td>\n",
       "      <td>2428.226946</td>\n",
       "      <td>2467.936859</td>\n",
       "      <td>2547.759305</td>\n",
       "      <td>2600.804099</td>\n",
       "    </tr>\n",
       "    <tr>\n",
       "      <th>std</th>\n",
       "      <td>590.085456</td>\n",
       "      <td>6.239612</td>\n",
       "      <td>4.939316</td>\n",
       "      <td>17.082868</td>\n",
       "      <td>0.0</td>\n",
       "      <td>4026.440035</td>\n",
       "      <td>4194.596959</td>\n",
       "      <td>4162.884308</td>\n",
       "      <td>4196.991169</td>\n",
       "      <td>4314.880456</td>\n",
       "    </tr>\n",
       "    <tr>\n",
       "      <th>min</th>\n",
       "      <td>0.000000</td>\n",
       "      <td>8.168900</td>\n",
       "      <td>68.644700</td>\n",
       "      <td>1927.000000</td>\n",
       "      <td>2019.0</td>\n",
       "      <td>0.000000</td>\n",
       "      <td>0.000000</td>\n",
       "      <td>0.000000</td>\n",
       "      <td>0.000000</td>\n",
       "      <td>0.000000</td>\n",
       "    </tr>\n",
       "    <tr>\n",
       "      <th>25%</th>\n",
       "      <td>16.725000</td>\n",
       "      <td>16.773900</td>\n",
       "      <td>74.256200</td>\n",
       "      <td>1988.000000</td>\n",
       "      <td>2019.0</td>\n",
       "      <td>223.557672</td>\n",
       "      <td>176.381063</td>\n",
       "      <td>188.285252</td>\n",
       "      <td>177.874930</td>\n",
       "      <td>193.378250</td>\n",
       "    </tr>\n",
       "    <tr>\n",
       "      <th>50%</th>\n",
       "      <td>59.200000</td>\n",
       "      <td>21.780000</td>\n",
       "      <td>76.719500</td>\n",
       "      <td>2001.000000</td>\n",
       "      <td>2019.0</td>\n",
       "      <td>801.123775</td>\n",
       "      <td>711.181225</td>\n",
       "      <td>737.205450</td>\n",
       "      <td>817.977250</td>\n",
       "      <td>751.644375</td>\n",
       "    </tr>\n",
       "    <tr>\n",
       "      <th>75%</th>\n",
       "      <td>385.250000</td>\n",
       "      <td>25.512400</td>\n",
       "      <td>79.440800</td>\n",
       "      <td>2012.000000</td>\n",
       "      <td>2019.0</td>\n",
       "      <td>3035.306250</td>\n",
       "      <td>3084.121250</td>\n",
       "      <td>3282.861313</td>\n",
       "      <td>3275.690475</td>\n",
       "      <td>3143.535900</td>\n",
       "    </tr>\n",
       "    <tr>\n",
       "      <th>max</th>\n",
       "      <td>4760.000000</td>\n",
       "      <td>34.649000</td>\n",
       "      <td>95.408000</td>\n",
       "      <td>2018.000000</td>\n",
       "      <td>2019.0</td>\n",
       "      <td>28127.000000</td>\n",
       "      <td>30539.000000</td>\n",
       "      <td>30015.000000</td>\n",
       "      <td>35116.000000</td>\n",
       "      <td>35136.000000</td>\n",
       "    </tr>\n",
       "  </tbody>\n",
       "</table>\n",
       "</div>"
      ],
      "text/plain": [
       "       capacity_mw    latitude   longitude  commissioning_year  \\\n",
       "count   907.000000  861.000000  861.000000          527.000000   \n",
       "mean    326.223755   21.197918   77.464907         1997.091082   \n",
       "std     590.085456    6.239612    4.939316           17.082868   \n",
       "min       0.000000    8.168900   68.644700         1927.000000   \n",
       "25%      16.725000   16.773900   74.256200         1988.000000   \n",
       "50%      59.200000   21.780000   76.719500         2001.000000   \n",
       "75%     385.250000   25.512400   79.440800         2012.000000   \n",
       "max    4760.000000   34.649000   95.408000         2018.000000   \n",
       "\n",
       "       year_of_capacity_data  generation_gwh_2014  generation_gwh_2015  \\\n",
       "count                  519.0           398.000000           422.000000   \n",
       "mean                  2019.0          2431.823590          2428.226946   \n",
       "std                      0.0          4026.440035          4194.596959   \n",
       "min                   2019.0             0.000000             0.000000   \n",
       "25%                   2019.0           223.557672           176.381063   \n",
       "50%                   2019.0           801.123775           711.181225   \n",
       "75%                   2019.0          3035.306250          3084.121250   \n",
       "max                   2019.0         28127.000000         30539.000000   \n",
       "\n",
       "       generation_gwh_2016  generation_gwh_2017  generation_gwh_2018  \n",
       "count           434.000000           440.000000           448.000000  \n",
       "mean           2467.936859          2547.759305          2600.804099  \n",
       "std            4162.884308          4196.991169          4314.880456  \n",
       "min               0.000000             0.000000             0.000000  \n",
       "25%             188.285252           177.874930           193.378250  \n",
       "50%             737.205450           817.977250           751.644375  \n",
       "75%            3282.861313          3275.690475          3143.535900  \n",
       "max           30015.000000         35116.000000         35136.000000  "
      ]
     },
     "execution_count": 12,
     "metadata": {},
     "output_type": "execute_result"
    }
   ],
   "source": [
    "gpp.describe()"
   ]
  },
  {
   "cell_type": "code",
   "execution_count": 13,
   "id": "2f1608a1",
   "metadata": {},
   "outputs": [
    {
     "data": {
      "text/plain": [
       "1"
      ]
     },
     "execution_count": 13,
     "metadata": {},
     "output_type": "execute_result"
    }
   ],
   "source": [
    "gpp['year_of_capacity_data'].nunique()"
   ]
  },
  {
   "cell_type": "markdown",
   "id": "d7affe62",
   "metadata": {},
   "source": [
    "We will remove year_of_capacity_data because it has only 1 unique value"
   ]
  },
  {
   "cell_type": "code",
   "execution_count": 14,
   "id": "9224d94f",
   "metadata": {},
   "outputs": [],
   "source": [
    "gpp.drop(['year_of_capacity_data'], axis=1, inplace= True)"
   ]
  },
  {
   "cell_type": "code",
   "execution_count": 15,
   "id": "21cb6116",
   "metadata": {},
   "outputs": [
    {
     "data": {
      "text/plain": [
       "array(['National Renewable Energy Laboratory', 'WRI', nan,\n",
       "       'Industry About'], dtype=object)"
      ]
     },
     "execution_count": 15,
     "metadata": {},
     "output_type": "execute_result"
    }
   ],
   "source": [
    "gpp['geolocation_source'].unique()"
   ]
  },
  {
   "cell_type": "code",
   "execution_count": 16,
   "id": "f6f8dadb",
   "metadata": {},
   "outputs": [],
   "source": [
    "# Filling geological source with mode because category data\n",
    "gpp['geolocation_source'].fillna(gpp['geolocation_source'].mode()[0], inplace= True)"
   ]
  },
  {
   "cell_type": "code",
   "execution_count": 17,
   "id": "f76a9553",
   "metadata": {},
   "outputs": [],
   "source": [
    "# Filling bull values with median in numerical columns\n",
    "gpp.fillna(gpp.median()[0], inplace= True)"
   ]
  },
  {
   "cell_type": "code",
   "execution_count": 18,
   "id": "b1b2cd88",
   "metadata": {},
   "outputs": [
    {
     "data": {
      "text/plain": [
       "country                0\n",
       "country_long           0\n",
       "capacity_mw            0\n",
       "latitude               0\n",
       "longitude              0\n",
       "primary_fuel           0\n",
       "commissioning_year     0\n",
       "source                 0\n",
       "geolocation_source     0\n",
       "generation_gwh_2014    0\n",
       "generation_gwh_2015    0\n",
       "generation_gwh_2016    0\n",
       "generation_gwh_2017    0\n",
       "generation_gwh_2018    0\n",
       "dtype: int64"
      ]
     },
     "execution_count": 18,
     "metadata": {},
     "output_type": "execute_result"
    }
   ],
   "source": [
    "gpp.isnull().sum()"
   ]
  },
  {
   "cell_type": "markdown",
   "id": "e51b541a",
   "metadata": {},
   "source": [
    "Here we can see that all the null values has been removed."
   ]
  },
  {
   "cell_type": "code",
   "execution_count": 19,
   "id": "31a4f246",
   "metadata": {},
   "outputs": [
    {
     "data": {
      "text/plain": [
       "191"
      ]
     },
     "execution_count": 19,
     "metadata": {},
     "output_type": "execute_result"
    }
   ],
   "source": [
    "gpp['source'].nunique()"
   ]
  },
  {
   "cell_type": "code",
   "execution_count": 20,
   "id": "972029a2",
   "metadata": {},
   "outputs": [
    {
     "data": {
      "text/plain": [
       "3"
      ]
     },
     "execution_count": 20,
     "metadata": {},
     "output_type": "execute_result"
    }
   ],
   "source": [
    "gpp['geolocation_source'].nunique()"
   ]
  },
  {
   "cell_type": "code",
   "execution_count": 21,
   "id": "40d72c5b",
   "metadata": {},
   "outputs": [
    {
     "data": {
      "text/plain": [
       "1"
      ]
     },
     "execution_count": 21,
     "metadata": {},
     "output_type": "execute_result"
    }
   ],
   "source": [
    "gpp['country'].nunique()"
   ]
  },
  {
   "cell_type": "markdown",
   "id": "b818ac34",
   "metadata": {},
   "source": [
    "Also dropping the columns 'country' and 'country_long' because having one country name only, it will be of no help in predictions"
   ]
  },
  {
   "cell_type": "code",
   "execution_count": 22,
   "id": "c967b6b3",
   "metadata": {},
   "outputs": [],
   "source": [
    "gpp.drop(['country', 'country_long'], axis=1, inplace= True)"
   ]
  },
  {
   "cell_type": "code",
   "execution_count": 23,
   "id": "bc230220",
   "metadata": {},
   "outputs": [
    {
     "name": "stdout",
     "output_type": "stream",
     "text": [
      "<class 'pandas.core.frame.DataFrame'>\n",
      "RangeIndex: 907 entries, 0 to 906\n",
      "Data columns (total 12 columns):\n",
      " #   Column               Non-Null Count  Dtype  \n",
      "---  ------               --------------  -----  \n",
      " 0   capacity_mw          907 non-null    float64\n",
      " 1   latitude             907 non-null    float64\n",
      " 2   longitude            907 non-null    float64\n",
      " 3   primary_fuel         907 non-null    object \n",
      " 4   commissioning_year   907 non-null    float64\n",
      " 5   source               907 non-null    object \n",
      " 6   geolocation_source   907 non-null    object \n",
      " 7   generation_gwh_2014  907 non-null    float64\n",
      " 8   generation_gwh_2015  907 non-null    float64\n",
      " 9   generation_gwh_2016  907 non-null    float64\n",
      " 10  generation_gwh_2017  907 non-null    float64\n",
      " 11  generation_gwh_2018  907 non-null    float64\n",
      "dtypes: float64(9), object(3)\n",
      "memory usage: 85.2+ KB\n"
     ]
    }
   ],
   "source": [
    "gpp.info()"
   ]
  },
  {
   "cell_type": "code",
   "execution_count": 24,
   "id": "acd5d03b",
   "metadata": {},
   "outputs": [
    {
     "data": {
      "text/plain": [
       "<AxesSubplot:xlabel='primary_fuel', ylabel='count'>"
      ]
     },
     "execution_count": 24,
     "metadata": {},
     "output_type": "execute_result"
    },
    {
     "data": {
      "image/png": "[encoded data removed]",
      "text/plain": [
       "<Figure size 640x480 with 1 Axes>"
      ]
     },
     "metadata": {},
     "output_type": "display_data"
    }
   ],
   "source": [
    "sns.set_style(\"whitegrid\")\n",
    "sns.countplot(x=\"primary_fuel\", data= gpp)"
   ]
  },
  {
   "cell_type": "markdown",
   "id": "b3f3df79",
   "metadata": {},
   "source": [
    "# EDA"
   ]
  },
  {
   "cell_type": "code",
   "execution_count": 25,
   "id": "4dfab728",
   "metadata": {},
   "outputs": [
    {
     "data": {
      "text/html": [
       "<div>\n",
       "<style scoped>\n",
       "    .dataframe tbody tr th:only-of-type {\n",
       "        vertical-align: middle;\n",
       "    }\n",
       "\n",
       "    .dataframe tbody tr th {\n",
       "        vertical-align: top;\n",
       "    }\n",
       "\n",
       "    .dataframe thead th {\n",
       "        text-align: right;\n",
       "    }\n",
       "</style>\n",
       "<table border=\"1\" class=\"dataframe\">\n",
       "  <thead>\n",
       "    <tr style=\"text-align: right;\">\n",
       "      <th></th>\n",
       "      <th>capacity_mw</th>\n",
       "      <th>latitude</th>\n",
       "      <th>longitude</th>\n",
       "      <th>primary_fuel</th>\n",
       "      <th>commissioning_year</th>\n",
       "      <th>source</th>\n",
       "      <th>geolocation_source</th>\n",
       "      <th>generation_gwh_2014</th>\n",
       "      <th>generation_gwh_2015</th>\n",
       "      <th>generation_gwh_2016</th>\n",
       "      <th>generation_gwh_2017</th>\n",
       "      <th>generation_gwh_2018</th>\n",
       "    </tr>\n",
       "  </thead>\n",
       "  <tbody>\n",
       "    <tr>\n",
       "      <th>0</th>\n",
       "      <td>2.5</td>\n",
       "      <td>28.1839</td>\n",
       "      <td>73.2407</td>\n",
       "      <td>Solar</td>\n",
       "      <td>2011.0</td>\n",
       "      <td>National Renewable Energy Laboratory</td>\n",
       "      <td>National Renewable Energy Laboratory</td>\n",
       "      <td>59.200000</td>\n",
       "      <td>59.200</td>\n",
       "      <td>59.200000</td>\n",
       "      <td>59.200000</td>\n",
       "      <td>59.200000</td>\n",
       "    </tr>\n",
       "    <tr>\n",
       "      <th>1</th>\n",
       "      <td>98.0</td>\n",
       "      <td>24.7663</td>\n",
       "      <td>74.6090</td>\n",
       "      <td>Coal</td>\n",
       "      <td>59.2</td>\n",
       "      <td>Ultratech Cement ltd</td>\n",
       "      <td>WRI</td>\n",
       "      <td>59.200000</td>\n",
       "      <td>59.200</td>\n",
       "      <td>59.200000</td>\n",
       "      <td>59.200000</td>\n",
       "      <td>59.200000</td>\n",
       "    </tr>\n",
       "    <tr>\n",
       "      <th>2</th>\n",
       "      <td>39.2</td>\n",
       "      <td>21.9038</td>\n",
       "      <td>69.3732</td>\n",
       "      <td>Wind</td>\n",
       "      <td>59.2</td>\n",
       "      <td>CDM</td>\n",
       "      <td>WRI</td>\n",
       "      <td>59.200000</td>\n",
       "      <td>59.200</td>\n",
       "      <td>59.200000</td>\n",
       "      <td>59.200000</td>\n",
       "      <td>59.200000</td>\n",
       "    </tr>\n",
       "    <tr>\n",
       "      <th>3</th>\n",
       "      <td>135.0</td>\n",
       "      <td>23.8712</td>\n",
       "      <td>91.3602</td>\n",
       "      <td>Gas</td>\n",
       "      <td>2004.0</td>\n",
       "      <td>Central Electricity Authority</td>\n",
       "      <td>WRI</td>\n",
       "      <td>617.789264</td>\n",
       "      <td>843.747</td>\n",
       "      <td>886.004428</td>\n",
       "      <td>663.774500</td>\n",
       "      <td>626.239128</td>\n",
       "    </tr>\n",
       "    <tr>\n",
       "      <th>4</th>\n",
       "      <td>1800.0</td>\n",
       "      <td>21.9603</td>\n",
       "      <td>82.4091</td>\n",
       "      <td>Coal</td>\n",
       "      <td>2015.0</td>\n",
       "      <td>Central Electricity Authority</td>\n",
       "      <td>WRI</td>\n",
       "      <td>3035.550000</td>\n",
       "      <td>5916.370</td>\n",
       "      <td>6243.000000</td>\n",
       "      <td>5385.579736</td>\n",
       "      <td>7279.000000</td>\n",
       "    </tr>\n",
       "  </tbody>\n",
       "</table>\n",
       "</div>"
      ],
      "text/plain": [
       "   capacity_mw  latitude  longitude primary_fuel  commissioning_year  \\\n",
       "0          2.5   28.1839    73.2407        Solar              2011.0   \n",
       "1         98.0   24.7663    74.6090         Coal                59.2   \n",
       "2         39.2   21.9038    69.3732         Wind                59.2   \n",
       "3        135.0   23.8712    91.3602          Gas              2004.0   \n",
       "4       1800.0   21.9603    82.4091         Coal              2015.0   \n",
       "\n",
       "                                 source                    geolocation_source  \\\n",
       "0  National Renewable Energy Laboratory  National Renewable Energy Laboratory   \n",
       "1                  Ultratech Cement ltd                                   WRI   \n",
       "2                                   CDM                                   WRI   \n",
       "3         Central Electricity Authority                                   WRI   \n",
       "4         Central Electricity Authority                                   WRI   \n",
       "\n",
       "   generation_gwh_2014  generation_gwh_2015  generation_gwh_2016  \\\n",
       "0            59.200000               59.200            59.200000   \n",
       "1            59.200000               59.200            59.200000   \n",
       "2            59.200000               59.200            59.200000   \n",
       "3           617.789264              843.747           886.004428   \n",
       "4          3035.550000             5916.370          6243.000000   \n",
       "\n",
       "   generation_gwh_2017  generation_gwh_2018  \n",
       "0            59.200000            59.200000  \n",
       "1            59.200000            59.200000  \n",
       "2            59.200000            59.200000  \n",
       "3           663.774500           626.239128  \n",
       "4          5385.579736          7279.000000  "
      ]
     },
     "execution_count": 25,
     "metadata": {},
     "output_type": "execute_result"
    }
   ],
   "source": [
    "gpp.head()"
   ]
  },
  {
   "cell_type": "code",
   "execution_count": 26,
   "id": "8a3b9fd6",
   "metadata": {},
   "outputs": [],
   "source": [
    "gpp.corr= gpp.corr()"
   ]
  },
  {
   "cell_type": "code",
   "execution_count": 27,
   "id": "376fa1a6",
   "metadata": {},
   "outputs": [
    {
     "data": {
      "text/plain": [
       "<AxesSubplot:>"
      ]
     },
     "execution_count": 27,
     "metadata": {},
     "output_type": "execute_result"
    },
    {
     "data": {
      "image/png": "[encoded data removed]",
      "text/plain": [
       "<Figure size 640x480 with 2 Axes>"
      ]
     },
     "metadata": {},
     "output_type": "display_data"
    }
   ],
   "source": [
    "sns.heatmap(gpp.corr, annot= True, linewidth=1)"
   ]
  },
  {
   "cell_type": "markdown",
   "id": "9f13dc88",
   "metadata": {},
   "source": [
    "Here we can see that generation_gwh_2014, 2015, 2016, 2017, 2018 are positively correlated to capacity_mw and lalitude is negatively correlated."
   ]
  },
  {
   "cell_type": "code",
   "execution_count": 28,
   "id": "6c1134ae",
   "metadata": {
    "scrolled": false
   },
   "outputs": [
    {
     "data": {
      "text/plain": [
       "<AxesSubplot:xlabel='capacity_mw', ylabel='generation_gwh_2014'>"
      ]
     },
     "execution_count": 28,
     "metadata": {},
     "output_type": "execute_result"
    },
    {
     "data": {
      "image/png": "[encoded data removed]",
      "text/plain": [
       "<Figure size 800x400 with 1 Axes>"
      ]
     },
     "metadata": {},
     "output_type": "display_data"
    }
   ],
   "source": [
    "plt.figure(figsize=(8,4))\n",
    "sns.scatterplot(x='capacity_mw', y='generation_gwh_2014', data= gpp)"
   ]
  },
  {
   "cell_type": "markdown",
   "id": "1bab831d",
   "metadata": {},
   "source": [
    "We can notice here as electicity generation in gigawatt-hour increasing also increasing the number of electrical generating cpacity in megawatts in 2014."
   ]
  },
  {
   "cell_type": "code",
   "execution_count": 29,
   "id": "fed53e96",
   "metadata": {},
   "outputs": [
    {
     "data": {
      "text/plain": [
       "<AxesSubplot:xlabel='capacity_mw', ylabel='generation_gwh_2015'>"
      ]
     },
     "execution_count": 29,
     "metadata": {},
     "output_type": "execute_result"
    },
    {
     "data": {
      "image/png": "[encoded data removed]",
      "text/plain": [
       "<Figure size 800x400 with 1 Axes>"
      ]
     },
     "metadata": {},
     "output_type": "display_data"
    }
   ],
   "source": [
    "plt.figure(figsize=(8,4))\n",
    "sns.scatterplot(x='capacity_mw', y='generation_gwh_2015', data= gpp)"
   ]
  },
  {
   "cell_type": "markdown",
   "id": "28b1f84f",
   "metadata": {},
   "source": [
    "We can notice here as electicity generation in gigawatt-hour increasing also increasing the number of electrical generating cpacity in megawatts in 2015."
   ]
  },
  {
   "cell_type": "code",
   "execution_count": 30,
   "id": "b6c0aaff",
   "metadata": {},
   "outputs": [
    {
     "data": {
      "text/plain": [
       "<AxesSubplot:xlabel='capacity_mw', ylabel='generation_gwh_2016'>"
      ]
     },
     "execution_count": 30,
     "metadata": {},
     "output_type": "execute_result"
    },
    {
     "data": {
      "image/png": "[encoded data removed]",
      "text/plain": [
       "<Figure size 800x400 with 1 Axes>"
      ]
     },
     "metadata": {},
     "output_type": "display_data"
    }
   ],
   "source": [
    "plt.figure(figsize=(8,4))\n",
    "sns.scatterplot(x='capacity_mw', y='generation_gwh_2016', data= gpp)"
   ]
  },
  {
   "cell_type": "markdown",
   "id": "34986889",
   "metadata": {},
   "source": [
    "We can notice here as electicity generation in gigawatt-hour increasing also increasing the number of electrical generating cpacity in megawatts in 2016."
   ]
  },
  {
   "cell_type": "code",
   "execution_count": 31,
   "id": "02f7b516",
   "metadata": {},
   "outputs": [
    {
     "data": {
      "text/plain": [
       "<AxesSubplot:xlabel='capacity_mw', ylabel='generation_gwh_2017'>"
      ]
     },
     "execution_count": 31,
     "metadata": {},
     "output_type": "execute_result"
    },
    {
     "data": {
      "image/png": "[encoded data removed]",
      "text/plain": [
       "<Figure size 800x400 with 1 Axes>"
      ]
     },
     "metadata": {},
     "output_type": "display_data"
    }
   ],
   "source": [
    "plt.figure(figsize=(8,4))\n",
    "sns.scatterplot(x='capacity_mw', y='generation_gwh_2017', data= gpp)"
   ]
  },
  {
   "cell_type": "markdown",
   "id": "610caf4a",
   "metadata": {},
   "source": [
    "We can notice here as electicity generation in gigawatt-hour increasing also increasing the number of electrical generating cpacity in megawatts in 2017."
   ]
  },
  {
   "cell_type": "code",
   "execution_count": 32,
   "id": "4a5c7374",
   "metadata": {},
   "outputs": [
    {
     "data": {
      "text/plain": [
       "<AxesSubplot:xlabel='capacity_mw', ylabel='generation_gwh_2018'>"
      ]
     },
     "execution_count": 32,
     "metadata": {},
     "output_type": "execute_result"
    },
    {
     "data": {
      "image/png": "[encoded data removed]",
      "text/plain": [
       "<Figure size 800x400 with 1 Axes>"
      ]
     },
     "metadata": {},
     "output_type": "display_data"
    }
   ],
   "source": [
    "plt.figure(figsize=(8,4))\n",
    "sns.scatterplot(x='capacity_mw', y='generation_gwh_2018', data= gpp)"
   ]
  },
  {
   "cell_type": "markdown",
   "id": "f1daea19",
   "metadata": {},
   "source": [
    "We can notice here as electicity generation in gigawatt-hour increasing also increasing the number of electrical generating cpacity in megawatts in 2018."
   ]
  },
  {
   "cell_type": "code",
   "execution_count": 33,
   "id": "1addb21b",
   "metadata": {},
   "outputs": [
    {
     "data": {
      "text/plain": [
       "<AxesSubplot:xlabel='capacity_mw', ylabel='latitude'>"
      ]
     },
     "execution_count": 33,
     "metadata": {},
     "output_type": "execute_result"
    },
    {
     "data": {
      "image/png": "[encoded data removed]",
      "text/plain": [
       "<Figure size 800x400 with 1 Axes>"
      ]
     },
     "metadata": {},
     "output_type": "display_data"
    }
   ],
   "source": [
    "plt.figure(figsize=(8,4))\n",
    "sns.scatterplot(x='capacity_mw', y='latitude', data= gpp)"
   ]
  },
  {
   "cell_type": "code",
   "execution_count": 34,
   "id": "4809d04d",
   "metadata": {},
   "outputs": [
    {
     "data": {
      "text/plain": [
       "<AxesSubplot:xlabel='primary_fuel', ylabel='generation_gwh_2014'>"
      ]
     },
     "execution_count": 34,
     "metadata": {},
     "output_type": "execute_result"
    },
    {
     "data": {
      "image/png": "[encoded data removed]",
      "text/plain": [
       "<Figure size 800x400 with 1 Axes>"
      ]
     },
     "metadata": {},
     "output_type": "display_data"
    }
   ],
   "source": [
    "plt.figure(figsize=(8,4))\n",
    "sns.scatterplot(x='primary_fuel', y='generation_gwh_2014', data= gpp)"
   ]
  },
  {
   "cell_type": "markdown",
   "id": "dd76dc07",
   "metadata": {},
   "source": [
    "We can here the coal is most used fuel in 2014 and Nuclear, Gas and Hydro on avg use and solar, Wind, Biomass and Oil was very less used."
   ]
  },
  {
   "cell_type": "code",
   "execution_count": 35,
   "id": "1123bb7f",
   "metadata": {},
   "outputs": [
    {
     "data": {
      "text/plain": [
       "<AxesSubplot:xlabel='primary_fuel', ylabel='generation_gwh_2015'>"
      ]
     },
     "execution_count": 35,
     "metadata": {},
     "output_type": "execute_result"
    },
    {
     "data": {
      "image/png": "[encoded data removed]",
      "text/plain": [
       "<Figure size 800x400 with 1 Axes>"
      ]
     },
     "metadata": {},
     "output_type": "display_data"
    }
   ],
   "source": [
    "plt.figure(figsize=(8,4))\n",
    "sns.scatterplot(x='primary_fuel', y='generation_gwh_2015', data= gpp)"
   ]
  },
  {
   "cell_type": "code",
   "execution_count": 36,
   "id": "94442b5b",
   "metadata": {},
   "outputs": [
    {
     "data": {
      "text/plain": [
       "<AxesSubplot:xlabel='primary_fuel', ylabel='generation_gwh_2016'>"
      ]
     },
     "execution_count": 36,
     "metadata": {},
     "output_type": "execute_result"
    },
    {
     "data": {
      "image/png": "[encoded data removed]",
      "text/plain": [
       "<Figure size 800x400 with 1 Axes>"
      ]
     },
     "metadata": {},
     "output_type": "display_data"
    }
   ],
   "source": [
    "plt.figure(figsize=(8,4))\n",
    "sns.scatterplot(x='primary_fuel', y='generation_gwh_2016', data= gpp)"
   ]
  },
  {
   "cell_type": "code",
   "execution_count": 37,
   "id": "b58efb6a",
   "metadata": {},
   "outputs": [
    {
     "data": {
      "text/plain": [
       "<AxesSubplot:xlabel='primary_fuel', ylabel='generation_gwh_2017'>"
      ]
     },
     "execution_count": 37,
     "metadata": {},
     "output_type": "execute_result"
    },
    {
     "data": {
      "image/png": "[encoded data removed]",
      "text/plain": [
       "<Figure size 800x400 with 1 Axes>"
      ]
     },
     "metadata": {},
     "output_type": "display_data"
    }
   ],
   "source": [
    "plt.figure(figsize=(8,4))\n",
    "sns.scatterplot(x='primary_fuel', y='generation_gwh_2017', data= gpp)"
   ]
  },
  {
   "cell_type": "code",
   "execution_count": 38,
   "id": "856530bb",
   "metadata": {},
   "outputs": [
    {
     "data": {
      "text/plain": [
       "<AxesSubplot:xlabel='primary_fuel', ylabel='generation_gwh_2018'>"
      ]
     },
     "execution_count": 38,
     "metadata": {},
     "output_type": "execute_result"
    },
    {
     "data": {
      "image/png": "[encoded data removed]",
      "text/plain": [
       "<Figure size 800x400 with 1 Axes>"
      ]
     },
     "metadata": {},
     "output_type": "display_data"
    }
   ],
   "source": [
    "plt.figure(figsize=(8,4))\n",
    "sns.scatterplot(x='primary_fuel', y='generation_gwh_2018', data= gpp)"
   ]
  },
  {
   "cell_type": "markdown",
   "id": "1fff246c",
   "metadata": {},
   "source": [
    "In all of the years from 2014 to 2018, the coal is used fuel."
   ]
  },
  {
   "cell_type": "code",
   "execution_count": 39,
   "id": "8408fb5e",
   "metadata": {},
   "outputs": [
    {
     "data": {
      "text/plain": [
       "<AxesSubplot:xlabel='primary_fuel', ylabel='latitude'>"
      ]
     },
     "execution_count": 39,
     "metadata": {},
     "output_type": "execute_result"
    },
    {
     "data": {
      "image/png": "[encoded data removed]",
      "text/plain": [
       "<Figure size 800x400 with 1 Axes>"
      ]
     },
     "metadata": {},
     "output_type": "display_data"
    }
   ],
   "source": [
    "plt.figure(figsize=(8,4))\n",
    "sns.scatterplot(x='primary_fuel', y='latitude', data= gpp)"
   ]
  },
  {
   "cell_type": "markdown",
   "id": "cce4a6d4",
   "metadata": {},
   "source": [
    "### Using LabelEncoder for converting categorical to numerical"
   ]
  },
  {
   "cell_type": "code",
   "execution_count": 40,
   "id": "ca95d98d",
   "metadata": {},
   "outputs": [
    {
     "name": "stdout",
     "output_type": "stream",
     "text": [
      "<class 'pandas.core.frame.DataFrame'>\n",
      "RangeIndex: 907 entries, 0 to 906\n",
      "Data columns (total 12 columns):\n",
      " #   Column               Non-Null Count  Dtype  \n",
      "---  ------               --------------  -----  \n",
      " 0   capacity_mw          907 non-null    float64\n",
      " 1   latitude             907 non-null    float64\n",
      " 2   longitude            907 non-null    float64\n",
      " 3   primary_fuel         907 non-null    object \n",
      " 4   commissioning_year   907 non-null    float64\n",
      " 5   source               907 non-null    object \n",
      " 6   geolocation_source   907 non-null    object \n",
      " 7   generation_gwh_2014  907 non-null    float64\n",
      " 8   generation_gwh_2015  907 non-null    float64\n",
      " 9   generation_gwh_2016  907 non-null    float64\n",
      " 10  generation_gwh_2017  907 non-null    float64\n",
      " 11  generation_gwh_2018  907 non-null    float64\n",
      "dtypes: float64(9), object(3)\n",
      "memory usage: 85.2+ KB\n"
     ]
    }
   ],
   "source": [
    "gpp.info()"
   ]
  },
  {
   "cell_type": "code",
   "execution_count": 41,
   "id": "34e4e723",
   "metadata": {},
   "outputs": [
    {
     "data": {
      "text/plain": [
       "array(['Solar', 'Coal', 'Wind', 'Gas', 'Hydro', 'Biomass', 'Oil',\n",
       "       'Nuclear'], dtype=object)"
      ]
     },
     "execution_count": 41,
     "metadata": {},
     "output_type": "execute_result"
    }
   ],
   "source": [
    "gpp['primary_fuel'].unique()"
   ]
  },
  {
   "cell_type": "code",
   "execution_count": 42,
   "id": "33b5610c",
   "metadata": {},
   "outputs": [
    {
     "data": {
      "text/plain": [
       "array(['National Renewable Energy Laboratory', 'WRI', 'Industry About'],\n",
       "      dtype=object)"
      ]
     },
     "execution_count": 42,
     "metadata": {},
     "output_type": "execute_result"
    }
   ],
   "source": [
    "gpp['geolocation_source'].unique()"
   ]
  },
  {
   "cell_type": "code",
   "execution_count": 43,
   "id": "6f1c8d47",
   "metadata": {},
   "outputs": [],
   "source": [
    "from sklearn.preprocessing import LabelEncoder\n",
    "\n",
    "le= LabelEncoder()\n",
    "gpp['primary_fuel']= le.fit_transform(gpp['primary_fuel'])\n",
    "gpp['geolocation_source']= le.fit_transform(gpp['geolocation_source'])\n",
    "gpp['source']= le.fit_transform(gpp['source'])"
   ]
  },
  {
   "cell_type": "code",
   "execution_count": 44,
   "id": "2cce6072",
   "metadata": {},
   "outputs": [
    {
     "data": {
      "text/plain": [
       "array([1, 2, 0])"
      ]
     },
     "execution_count": 44,
     "metadata": {},
     "output_type": "execute_result"
    }
   ],
   "source": [
    "gpp['geolocation_source'].unique()"
   ]
  },
  {
   "cell_type": "markdown",
   "id": "05030a15",
   "metadata": {},
   "source": [
    "### REMOVING OUTLIERS"
   ]
  },
  {
   "cell_type": "markdown",
   "id": "800662dc",
   "metadata": {},
   "source": [
    "## ZSCORE"
   ]
  },
  {
   "cell_type": "code",
   "execution_count": 45,
   "id": "92526eb3",
   "metadata": {},
   "outputs": [
    {
     "name": "stdout",
     "output_type": "stream",
     "text": [
      "(array([ 15,  15,  15,  15,  15, 143, 143, 143, 143, 143, 143, 147, 158,\n",
      "       209, 209, 209, 209, 209, 209, 308, 308, 308, 308, 308, 308, 363,\n",
      "       364, 364, 364, 364, 364, 364, 375, 482, 482, 493, 493, 493, 493,\n",
      "       493, 493, 494, 494, 494, 494, 494, 494, 532, 623, 648, 648, 648,\n",
      "       648, 648, 648, 657, 657, 657, 657, 657, 657, 695, 695, 695, 695,\n",
      "       695, 695, 721, 721, 721, 721, 721, 724, 724, 724, 724, 724, 726,\n",
      "       726, 726, 726, 726, 726, 767, 786, 786, 786, 786, 786, 786, 788,\n",
      "       808, 808, 808, 808, 808, 808, 880, 880, 880, 880, 880, 880],\n",
      "      dtype=int64), array([1, 2, 3, 4, 5, 0, 1, 2, 3, 4, 5, 5, 0, 0, 1, 2, 3, 4, 5, 0, 1, 2,\n",
      "       3, 4, 5, 5, 0, 1, 2, 3, 4, 5, 5, 4, 5, 0, 1, 2, 3, 4, 5, 0, 1, 2,\n",
      "       3, 4, 5, 0, 0, 0, 1, 2, 3, 4, 5, 0, 1, 2, 3, 4, 5, 0, 1, 2, 3, 4,\n",
      "       5, 0, 1, 2, 3, 4, 0, 1, 2, 3, 4, 0, 1, 2, 3, 4, 5, 5, 0, 1, 2, 3,\n",
      "       4, 5, 5, 0, 1, 2, 3, 4, 5, 0, 1, 2, 3, 4, 5], dtype=int64))\n"
     ]
    }
   ],
   "source": [
    "z= np.abs(zscore(gpp[['generation_gwh_2014', 'generation_gwh_2015', 'generation_gwh_2016', 'generation_gwh_2017', 'generation_gwh_2018', 'capacity_mw']]))\n",
    "print(np.where(z>3))"
   ]
  },
  {
   "cell_type": "code",
   "execution_count": 46,
   "id": "512e5b38",
   "metadata": {},
   "outputs": [
    {
     "name": "stdout",
     "output_type": "stream",
     "text": [
      "Shape of the dataframe before removing outliers:  (907, 12)\n",
      "Shape of the dataframe after removing outliers:  (882, 12)\n",
      "Percentage of data loss post outliers removal:  2.7563395810363835\n"
     ]
    }
   ],
   "source": [
    "z= np.abs(zscore(gpp[['generation_gwh_2014', 'generation_gwh_2015', 'generation_gwh_2016', 'generation_gwh_2017', 'generation_gwh_2018', 'capacity_mw']]))\n",
    "threshold=3\n",
    "gpp1= gpp[(z<3).all(axis=1)]\n",
    "\n",
    "print(\"Shape of the dataframe before removing outliers: \", gpp.shape)\n",
    "print(\"Shape of the dataframe after removing outliers: \", gpp1.shape)\n",
    "print(\"Percentage of data loss post outliers removal: \", (gpp.shape[0]-gpp1.shape[0])/gpp.shape[0]*100)\n",
    "\n",
    "# Reassinging the changed dataframe to the original dataframe\n",
    "gpp= gpp1.copy()"
   ]
  },
  {
   "cell_type": "code",
   "execution_count": 47,
   "id": "d1d65fbe",
   "metadata": {},
   "outputs": [
    {
     "data": {
      "text/plain": [
       "(882, 12)"
      ]
     },
     "execution_count": 47,
     "metadata": {},
     "output_type": "execute_result"
    }
   ],
   "source": [
    "gpp.shape"
   ]
  },
  {
   "cell_type": "markdown",
   "id": "dd739efa",
   "metadata": {},
   "source": [
    "## SKEWNESS"
   ]
  },
  {
   "cell_type": "code",
   "execution_count": 48,
   "id": "ce06e503",
   "metadata": {},
   "outputs": [
    {
     "data": {
      "image/png": "[encoded data removed]",
      "text/plain": [
       "<Figure size 1800x2000 with 12 Axes>"
      ]
     },
     "metadata": {},
     "output_type": "display_data"
    }
   ],
   "source": [
    "plt.figure(figsize=(18,20))\n",
    "for i in enumerate(gpp):\n",
    "    plt.subplot(8,4,i[0]+1)\n",
    "    sns.distplot(gpp[i[1]], color='g')"
   ]
  },
  {
   "cell_type": "code",
   "execution_count": 49,
   "id": "799b64b7",
   "metadata": {},
   "outputs": [
    {
     "data": {
      "text/plain": [
       "capacity_mw            2.054665\n",
       "latitude               1.914796\n",
       "longitude             -0.275375\n",
       "primary_fuel           0.428186\n",
       "commissioning_year    -0.279248\n",
       "source                 1.782583\n",
       "geolocation_source    -2.112610\n",
       "generation_gwh_2014    2.885639\n",
       "generation_gwh_2015    2.711018\n",
       "generation_gwh_2016    2.651120\n",
       "generation_gwh_2017    2.563221\n",
       "generation_gwh_2018    2.615528\n",
       "dtype: float64"
      ]
     },
     "execution_count": 49,
     "metadata": {},
     "output_type": "execute_result"
    }
   ],
   "source": [
    "gpp.skew()"
   ]
  },
  {
   "cell_type": "code",
   "execution_count": 50,
   "id": "fc90e1e1",
   "metadata": {},
   "outputs": [
    {
     "data": {
      "text/plain": [
       "capacity_mw            0\n",
       "latitude               0\n",
       "longitude              0\n",
       "primary_fuel           0\n",
       "commissioning_year     0\n",
       "source                 0\n",
       "geolocation_source     0\n",
       "generation_gwh_2014    0\n",
       "generation_gwh_2015    0\n",
       "generation_gwh_2016    0\n",
       "generation_gwh_2017    0\n",
       "generation_gwh_2018    0\n",
       "dtype: int64"
      ]
     },
     "execution_count": 50,
     "metadata": {},
     "output_type": "execute_result"
    }
   ],
   "source": [
    "pd.DataFrame(gpp).isnull().sum()"
   ]
  },
  {
   "cell_type": "markdown",
   "id": "78e7dc7b",
   "metadata": {},
   "source": [
    "### 1. Taking 'capacity_mw' as target creating Regression model"
   ]
  },
  {
   "cell_type": "markdown",
   "id": "2272521b",
   "metadata": {},
   "source": [
    "### Diving data into X & Y"
   ]
  },
  {
   "cell_type": "code",
   "execution_count": 51,
   "id": "50f45908",
   "metadata": {},
   "outputs": [],
   "source": [
    "x= gpp.drop(['capacity_mw'], axis=1)\n",
    "y= gpp['capacity_mw']"
   ]
  },
  {
   "cell_type": "code",
   "execution_count": 52,
   "id": "dd115529",
   "metadata": {},
   "outputs": [
    {
     "data": {
      "text/plain": [
       "(882, 11)"
      ]
     },
     "execution_count": 52,
     "metadata": {},
     "output_type": "execute_result"
    }
   ],
   "source": [
    "x.shape"
   ]
  },
  {
   "cell_type": "code",
   "execution_count": 53,
   "id": "8cf1d96d",
   "metadata": {},
   "outputs": [
    {
     "data": {
      "text/plain": [
       "(882,)"
      ]
     },
     "execution_count": 53,
     "metadata": {},
     "output_type": "execute_result"
    }
   ],
   "source": [
    "y.shape"
   ]
  },
  {
   "cell_type": "markdown",
   "id": "56e6d2a0",
   "metadata": {},
   "source": [
    "### Scaling X values"
   ]
  },
  {
   "cell_type": "code",
   "execution_count": 54,
   "id": "17b6533d",
   "metadata": {},
   "outputs": [],
   "source": [
    "sc= MinMaxScaler()\n",
    "x= sc.fit_transform(x)"
   ]
  },
  {
   "cell_type": "code",
   "execution_count": 55,
   "id": "2cef1439",
   "metadata": {},
   "outputs": [
    {
     "data": {
      "text/plain": [
       "0     0\n",
       "1     0\n",
       "2     0\n",
       "3     0\n",
       "4     0\n",
       "5     0\n",
       "6     0\n",
       "7     0\n",
       "8     0\n",
       "9     0\n",
       "10    0\n",
       "dtype: int64"
      ]
     },
     "execution_count": 55,
     "metadata": {},
     "output_type": "execute_result"
    }
   ],
   "source": [
    "pd.DataFrame(x).isnull().sum()"
   ]
  },
  {
   "cell_type": "code",
   "execution_count": 56,
   "id": "1b47cfa5",
   "metadata": {},
   "outputs": [
    {
     "data": {
      "text/html": [
       "<div>\n",
       "<style scoped>\n",
       "    .dataframe tbody tr th:only-of-type {\n",
       "        vertical-align: middle;\n",
       "    }\n",
       "\n",
       "    .dataframe tbody tr th {\n",
       "        vertical-align: top;\n",
       "    }\n",
       "\n",
       "    .dataframe thead th {\n",
       "        text-align: right;\n",
       "    }\n",
       "</style>\n",
       "<table border=\"1\" class=\"dataframe\">\n",
       "  <thead>\n",
       "    <tr style=\"text-align: right;\">\n",
       "      <th></th>\n",
       "      <th>0</th>\n",
       "      <th>1</th>\n",
       "      <th>2</th>\n",
       "      <th>3</th>\n",
       "      <th>4</th>\n",
       "      <th>5</th>\n",
       "      <th>6</th>\n",
       "      <th>7</th>\n",
       "      <th>8</th>\n",
       "      <th>9</th>\n",
       "      <th>10</th>\n",
       "    </tr>\n",
       "  </thead>\n",
       "  <tbody>\n",
       "    <tr>\n",
       "      <th>count</th>\n",
       "      <td>882.000000</td>\n",
       "      <td>882.000000</td>\n",
       "      <td>882.000000</td>\n",
       "      <td>882.000000</td>\n",
       "      <td>882.000000</td>\n",
       "      <td>882.000000</td>\n",
       "      <td>882.000000</td>\n",
       "      <td>882.000000</td>\n",
       "      <td>882.000000</td>\n",
       "      <td>882.000000</td>\n",
       "      <td>882.000000</td>\n",
       "    </tr>\n",
       "    <tr>\n",
       "      <th>mean</th>\n",
       "      <td>0.293848</td>\n",
       "      <td>0.475981</td>\n",
       "      <td>0.466958</td>\n",
       "      <td>0.562984</td>\n",
       "      <td>0.234037</td>\n",
       "      <td>0.862812</td>\n",
       "      <td>0.081043</td>\n",
       "      <td>0.083716</td>\n",
       "      <td>0.084548</td>\n",
       "      <td>0.094683</td>\n",
       "      <td>0.091333</td>\n",
       "    </tr>\n",
       "    <tr>\n",
       "      <th>std</th>\n",
       "      <td>0.204767</td>\n",
       "      <td>0.173376</td>\n",
       "      <td>0.325982</td>\n",
       "      <td>0.490143</td>\n",
       "      <td>0.237462</td>\n",
       "      <td>0.342589</td>\n",
       "      <td>0.173033</td>\n",
       "      <td>0.174021</td>\n",
       "      <td>0.172960</td>\n",
       "      <td>0.191004</td>\n",
       "      <td>0.184717</td>\n",
       "    </tr>\n",
       "    <tr>\n",
       "      <th>min</th>\n",
       "      <td>0.000000</td>\n",
       "      <td>0.000000</td>\n",
       "      <td>0.000000</td>\n",
       "      <td>0.000000</td>\n",
       "      <td>0.000000</td>\n",
       "      <td>0.000000</td>\n",
       "      <td>0.000000</td>\n",
       "      <td>0.000000</td>\n",
       "      <td>0.000000</td>\n",
       "      <td>0.000000</td>\n",
       "      <td>0.000000</td>\n",
       "    </tr>\n",
       "    <tr>\n",
       "      <th>25%</th>\n",
       "      <td>0.172280</td>\n",
       "      <td>0.401798</td>\n",
       "      <td>0.142857</td>\n",
       "      <td>0.000000</td>\n",
       "      <td>0.115789</td>\n",
       "      <td>1.000000</td>\n",
       "      <td>0.006342</td>\n",
       "      <td>0.006263</td>\n",
       "      <td>0.005988</td>\n",
       "      <td>0.006385</td>\n",
       "      <td>0.006004</td>\n",
       "    </tr>\n",
       "    <tr>\n",
       "      <th>50%</th>\n",
       "      <td>0.274085</td>\n",
       "      <td>0.475058</td>\n",
       "      <td>0.428571</td>\n",
       "      <td>0.978048</td>\n",
       "      <td>0.115789</td>\n",
       "      <td>1.000000</td>\n",
       "      <td>0.006342</td>\n",
       "      <td>0.006263</td>\n",
       "      <td>0.005988</td>\n",
       "      <td>0.006385</td>\n",
       "      <td>0.006004</td>\n",
       "    </tr>\n",
       "    <tr>\n",
       "      <th>75%</th>\n",
       "      <td>0.365181</td>\n",
       "      <td>0.549905</td>\n",
       "      <td>0.857143</td>\n",
       "      <td>0.991832</td>\n",
       "      <td>0.188158</td>\n",
       "      <td>1.000000</td>\n",
       "      <td>0.048437</td>\n",
       "      <td>0.051690</td>\n",
       "      <td>0.048640</td>\n",
       "      <td>0.058863</td>\n",
       "      <td>0.059481</td>\n",
       "    </tr>\n",
       "    <tr>\n",
       "      <th>max</th>\n",
       "      <td>1.000000</td>\n",
       "      <td>1.000000</td>\n",
       "      <td>1.000000</td>\n",
       "      <td>1.000000</td>\n",
       "      <td>1.000000</td>\n",
       "      <td>1.000000</td>\n",
       "      <td>1.000000</td>\n",
       "      <td>1.000000</td>\n",
       "      <td>1.000000</td>\n",
       "      <td>1.000000</td>\n",
       "      <td>1.000000</td>\n",
       "    </tr>\n",
       "  </tbody>\n",
       "</table>\n",
       "</div>"
      ],
      "text/plain": [
       "               0           1           2           3           4           5   \\\n",
       "count  882.000000  882.000000  882.000000  882.000000  882.000000  882.000000   \n",
       "mean     0.293848    0.475981    0.466958    0.562984    0.234037    0.862812   \n",
       "std      0.204767    0.173376    0.325982    0.490143    0.237462    0.342589   \n",
       "min      0.000000    0.000000    0.000000    0.000000    0.000000    0.000000   \n",
       "25%      0.172280    0.401798    0.142857    0.000000    0.115789    1.000000   \n",
       "50%      0.274085    0.475058    0.428571    0.978048    0.115789    1.000000   \n",
       "75%      0.365181    0.549905    0.857143    0.991832    0.188158    1.000000   \n",
       "max      1.000000    1.000000    1.000000    1.000000    1.000000    1.000000   \n",
       "\n",
       "               6           7           8           9           10  \n",
       "count  882.000000  882.000000  882.000000  882.000000  882.000000  \n",
       "mean     0.081043    0.083716    0.084548    0.094683    0.091333  \n",
       "std      0.173033    0.174021    0.172960    0.191004    0.184717  \n",
       "min      0.000000    0.000000    0.000000    0.000000    0.000000  \n",
       "25%      0.006342    0.006263    0.005988    0.006385    0.006004  \n",
       "50%      0.006342    0.006263    0.005988    0.006385    0.006004  \n",
       "75%      0.048437    0.051690    0.048640    0.058863    0.059481  \n",
       "max      1.000000    1.000000    1.000000    1.000000    1.000000  "
      ]
     },
     "execution_count": 56,
     "metadata": {},
     "output_type": "execute_result"
    }
   ],
   "source": [
    "pd.DataFrame(x).describe()"
   ]
  },
  {
   "cell_type": "markdown",
   "id": "6a5d7b21",
   "metadata": {},
   "source": [
    " Data have been scaled"
   ]
  },
  {
   "cell_type": "markdown",
   "id": "9a82581f",
   "metadata": {},
   "source": [
    "## MODEL BUILDING"
   ]
  },
  {
   "cell_type": "markdown",
   "id": "a8b082b6",
   "metadata": {},
   "source": [
    "### LINEAR REGRESSION"
   ]
  },
  {
   "cell_type": "code",
   "execution_count": 63,
   "id": "b3902ba4",
   "metadata": {},
   "outputs": [
    {
     "name": "stdout",
     "output_type": "stream",
     "text": [
      "At random state 0, The training accuracy is: 0.7371343694969148\n",
      "At random state 0, The test accuracy is: 0.7785562748322528\n",
      "\n",
      "\n",
      "At random state 1, The training accuracy is: 0.7363732472807598\n",
      "At random state 1, The test accuracy is: 0.7825703301177083\n",
      "\n",
      "\n",
      "At random state 2, The training accuracy is: 0.7695941153746326\n",
      "At random state 2, The test accuracy is: 0.6465841680621657\n",
      "\n",
      "\n",
      "At random state 3, The training accuracy is: 0.7419559645164441\n",
      "At random state 3, The test accuracy is: 0.7320805390372324\n",
      "\n",
      "\n",
      "At random state 4, The training accuracy is: 0.738738279059849\n",
      "At random state 4, The test accuracy is: 0.773301903306123\n",
      "\n",
      "\n",
      "At random state 5, The training accuracy is: 0.7250667084833813\n",
      "At random state 5, The test accuracy is: 0.8275414608769627\n",
      "\n",
      "\n",
      "At random state 6, The training accuracy is: 0.7141468059435383\n",
      "At random state 6, The test accuracy is: 0.8357829540367204\n",
      "\n",
      "\n",
      "At random state 7, The training accuracy is: 0.7547349077263668\n",
      "At random state 7, The test accuracy is: 0.7060863185988965\n",
      "\n",
      "\n",
      "At random state 8, The training accuracy is: 0.729627183282599\n",
      "At random state 8, The test accuracy is: 0.7986397991075475\n",
      "\n",
      "\n",
      "At random state 9, The training accuracy is: 0.740226741199139\n",
      "At random state 9, The test accuracy is: 0.7589928725740778\n",
      "\n",
      "\n",
      "At random state 10, The training accuracy is: 0.7419921682475011\n",
      "At random state 10, The test accuracy is: 0.7613359067058532\n",
      "\n",
      "\n",
      "At random state 11, The training accuracy is: 0.7766644520015538\n",
      "At random state 11, The test accuracy is: 0.6395477944868018\n",
      "\n",
      "\n",
      "At random state 12, The training accuracy is: 0.763186845199472\n",
      "At random state 12, The test accuracy is: 0.6780814075538202\n",
      "\n",
      "\n",
      "At random state 13, The training accuracy is: 0.7536079477465105\n",
      "At random state 13, The test accuracy is: 0.7171810340602309\n",
      "\n",
      "\n",
      "At random state 14, The training accuracy is: 0.7351553506050654\n",
      "At random state 14, The test accuracy is: 0.8023868894861395\n",
      "\n",
      "\n",
      "At random state 15, The training accuracy is: 0.7584351944311032\n",
      "At random state 15, The test accuracy is: 0.6980534599313176\n",
      "\n",
      "\n",
      "At random state 16, The training accuracy is: 0.7474131119832176\n",
      "At random state 16, The test accuracy is: 0.7316410972151557\n",
      "\n",
      "\n",
      "At random state 17, The training accuracy is: 0.759511612480759\n",
      "At random state 17, The test accuracy is: 0.6740515886702714\n",
      "\n",
      "\n",
      "At random state 18, The training accuracy is: 0.7292579017226393\n",
      "At random state 18, The test accuracy is: 0.8420124421584898\n",
      "\n",
      "\n",
      "At random state 19, The training accuracy is: 0.7808482036116975\n",
      "At random state 19, The test accuracy is: 0.6284834527188452\n",
      "\n",
      "\n",
      "At random state 20, The training accuracy is: 0.7355926639557957\n",
      "At random state 20, The test accuracy is: 0.7833855181591676\n",
      "\n",
      "\n",
      "At random state 21, The training accuracy is: 0.7215414906543622\n",
      "At random state 21, The test accuracy is: 0.8491925382576672\n",
      "\n",
      "\n",
      "At random state 22, The training accuracy is: 0.7399287291634418\n",
      "At random state 22, The test accuracy is: 0.7801699116006474\n",
      "\n",
      "\n",
      "At random state 23, The training accuracy is: 0.7229679926051251\n",
      "At random state 23, The test accuracy is: 0.848663019728497\n",
      "\n",
      "\n",
      "At random state 24, The training accuracy is: 0.7335885457377149\n",
      "At random state 24, The test accuracy is: 0.8102850573138592\n",
      "\n",
      "\n",
      "At random state 25, The training accuracy is: 0.7529893600430871\n",
      "At random state 25, The test accuracy is: 0.7174191397194465\n",
      "\n",
      "\n",
      "At random state 26, The training accuracy is: 0.7477522031052218\n",
      "At random state 26, The test accuracy is: 0.7363963271779146\n",
      "\n",
      "\n",
      "At random state 27, The training accuracy is: 0.747398399279062\n",
      "At random state 27, The test accuracy is: 0.7262237195806567\n",
      "\n",
      "\n",
      "At random state 28, The training accuracy is: 0.7232347043399003\n",
      "At random state 28, The test accuracy is: 0.8278782901266101\n",
      "\n",
      "\n",
      "At random state 29, The training accuracy is: 0.7414281079431291\n",
      "At random state 29, The test accuracy is: 0.7652980608261521\n",
      "\n",
      "\n",
      "At random state 30, The training accuracy is: 0.782355126369247\n",
      "At random state 30, The test accuracy is: 0.6281266361983946\n",
      "\n",
      "\n",
      "At random state 31, The training accuracy is: 0.7577391935925315\n",
      "At random state 31, The test accuracy is: 0.7051156192386321\n",
      "\n",
      "\n",
      "At random state 32, The training accuracy is: 0.7576965415870728\n",
      "At random state 32, The test accuracy is: 0.7054032389507473\n",
      "\n",
      "\n",
      "At random state 33, The training accuracy is: 0.7630262528220946\n",
      "At random state 33, The test accuracy is: 0.6746947727291555\n",
      "\n",
      "\n",
      "At random state 34, The training accuracy is: 0.7326881581685598\n",
      "At random state 34, The test accuracy is: 0.7959793761588163\n",
      "\n",
      "\n",
      "At random state 35, The training accuracy is: 0.752543789164279\n",
      "At random state 35, The test accuracy is: 0.7141678511242238\n",
      "\n",
      "\n",
      "At random state 36, The training accuracy is: 0.738679001394491\n",
      "At random state 36, The test accuracy is: 0.7732321897546228\n",
      "\n",
      "\n",
      "At random state 37, The training accuracy is: 0.7478871455512126\n",
      "At random state 37, The test accuracy is: 0.7402792471666477\n",
      "\n",
      "\n",
      "At random state 38, The training accuracy is: 0.7403813969247323\n",
      "At random state 38, The test accuracy is: 0.7776932219616686\n",
      "\n",
      "\n",
      "At random state 39, The training accuracy is: 0.7352106926620947\n",
      "At random state 39, The test accuracy is: 0.8131565606782438\n",
      "\n",
      "\n",
      "At random state 40, The training accuracy is: 0.7322763064751792\n",
      "At random state 40, The test accuracy is: 0.7749552090550158\n",
      "\n",
      "\n",
      "At random state 41, The training accuracy is: 0.7351750168865222\n",
      "At random state 41, The test accuracy is: 0.7872535434746357\n",
      "\n",
      "\n",
      "At random state 42, The training accuracy is: 0.7720534994007278\n",
      "At random state 42, The test accuracy is: 0.6769327020976115\n",
      "\n",
      "\n",
      "At random state 43, The training accuracy is: 0.7445364392878699\n",
      "At random state 43, The test accuracy is: 0.7544282246456075\n",
      "\n",
      "\n",
      "At random state 44, The training accuracy is: 0.7555224405427486\n",
      "At random state 44, The test accuracy is: 0.7083712397685438\n",
      "\n",
      "\n",
      "At random state 45, The training accuracy is: 0.749561535349001\n",
      "At random state 45, The test accuracy is: 0.7174100140777189\n",
      "\n",
      "\n",
      "At random state 46, The training accuracy is: 0.7437410850292847\n",
      "At random state 46, The test accuracy is: 0.7525305053247702\n",
      "\n",
      "\n",
      "At random state 47, The training accuracy is: 0.7656692939615984\n",
      "At random state 47, The test accuracy is: 0.6678547606372728\n",
      "\n",
      "\n",
      "At random state 48, The training accuracy is: 0.7598637061548588\n",
      "At random state 48, The test accuracy is: 0.695699809456338\n",
      "\n",
      "\n",
      "At random state 49, The training accuracy is: 0.7599030863884242\n",
      "At random state 49, The test accuracy is: 0.6986341158236968\n",
      "\n",
      "\n",
      "At random state 50, The training accuracy is: 0.753701545521292\n",
      "At random state 50, The test accuracy is: 0.7137376279103715\n",
      "\n",
      "\n",
      "At random state 51, The training accuracy is: 0.7593277137717211\n",
      "At random state 51, The test accuracy is: 0.6946261487042988\n",
      "\n",
      "\n",
      "At random state 52, The training accuracy is: 0.7335525683611124\n",
      "At random state 52, The test accuracy is: 0.789015862954747\n",
      "\n",
      "\n",
      "At random state 53, The training accuracy is: 0.7234220101073532\n",
      "At random state 53, The test accuracy is: 0.8204812303291551\n",
      "\n",
      "\n",
      "At random state 54, The training accuracy is: 0.7585440308827673\n",
      "At random state 54, The test accuracy is: 0.6889192737860826\n",
      "\n",
      "\n",
      "At random state 55, The training accuracy is: 0.734626058786038\n",
      "At random state 55, The test accuracy is: 0.7771693900670459\n",
      "\n",
      "\n",
      "At random state 56, The training accuracy is: 0.7446758230284645\n",
      "At random state 56, The test accuracy is: 0.739509579980369\n",
      "\n",
      "\n",
      "At random state 57, The training accuracy is: 0.7429436230849961\n",
      "At random state 57, The test accuracy is: 0.7613203555873462\n",
      "\n",
      "\n",
      "At random state 58, The training accuracy is: 0.7561017244515382\n",
      "At random state 58, The test accuracy is: 0.6977086031043376\n",
      "\n",
      "\n",
      "At random state 59, The training accuracy is: 0.7544952819728884\n",
      "At random state 59, The test accuracy is: 0.6917152604302645\n",
      "\n",
      "\n",
      "At random state 60, The training accuracy is: 0.7300501467430995\n",
      "At random state 60, The test accuracy is: 0.8064156675363459\n",
      "\n",
      "\n",
      "At random state 61, The training accuracy is: 0.7504452269445165\n",
      "At random state 61, The test accuracy is: 0.734414509014262\n",
      "\n",
      "\n",
      "At random state 62, The training accuracy is: 0.7536703869376797\n",
      "At random state 62, The test accuracy is: 0.7090584509123378\n",
      "\n",
      "\n",
      "At random state 63, The training accuracy is: 0.750046214124633\n",
      "At random state 63, The test accuracy is: 0.7217554698392872\n",
      "\n",
      "\n",
      "At random state 64, The training accuracy is: 0.7564730395268141\n",
      "At random state 64, The test accuracy is: 0.7027475101010972\n",
      "\n",
      "\n",
      "At random state 65, The training accuracy is: 0.7384903906663336\n",
      "At random state 65, The test accuracy is: 0.780530040764232\n",
      "\n",
      "\n",
      "At random state 66, The training accuracy is: 0.7348035386612577\n",
      "At random state 66, The test accuracy is: 0.7893999542892728\n",
      "\n",
      "\n",
      "At random state 67, The training accuracy is: 0.7267624880395583\n",
      "At random state 67, The test accuracy is: 0.7801685804240622\n",
      "\n",
      "\n",
      "At random state 68, The training accuracy is: 0.7495412377812135\n",
      "At random state 68, The test accuracy is: 0.7350799821258323\n",
      "\n",
      "\n",
      "At random state 69, The training accuracy is: 0.7443803006703045\n",
      "At random state 69, The test accuracy is: 0.754275057762048\n",
      "\n",
      "\n",
      "At random state 70, The training accuracy is: 0.7731898279913381\n",
      "At random state 70, The test accuracy is: 0.639440453492495\n",
      "\n",
      "\n",
      "At random state 71, The training accuracy is: 0.744496681453593\n",
      "At random state 71, The test accuracy is: 0.7511351530790549\n",
      "\n",
      "\n",
      "At random state 72, The training accuracy is: 0.7753378311839637\n",
      "At random state 72, The test accuracy is: 0.6302908935648088\n",
      "\n",
      "\n",
      "At random state 73, The training accuracy is: 0.7660889117464332\n",
      "At random state 73, The test accuracy is: 0.6685283806782389\n",
      "\n",
      "\n",
      "At random state 74, The training accuracy is: 0.7235912654549769\n",
      "At random state 74, The test accuracy is: 0.813125763565962\n",
      "\n",
      "\n",
      "At random state 75, The training accuracy is: 0.7408321928342738\n",
      "At random state 75, The test accuracy is: 0.7582656918323303\n",
      "\n",
      "\n",
      "At random state 76, The training accuracy is: 0.781331280952893\n",
      "At random state 76, The test accuracy is: 0.6152197824033104\n",
      "\n",
      "\n",
      "At random state 77, The training accuracy is: 0.7525795449380909\n",
      "At random state 77, The test accuracy is: 0.718224534113443\n",
      "\n",
      "\n",
      "At random state 78, The training accuracy is: 0.7475725859975917\n",
      "At random state 78, The test accuracy is: 0.7353356603757086\n",
      "\n",
      "\n",
      "At random state 79, The training accuracy is: 0.7559902649607935\n",
      "At random state 79, The test accuracy is: 0.6987608384296938\n",
      "\n",
      "\n",
      "At random state 80, The training accuracy is: 0.7433202961686335\n",
      "At random state 80, The test accuracy is: 0.7537461632426422\n",
      "\n",
      "\n",
      "At random state 81, The training accuracy is: 0.7338963888477232\n",
      "At random state 81, The test accuracy is: 0.808610527204765\n",
      "\n",
      "\n",
      "At random state 82, The training accuracy is: 0.7451763305168138\n",
      "At random state 82, The test accuracy is: 0.7523714314223975\n",
      "\n",
      "\n",
      "At random state 83, The training accuracy is: 0.7454151609011982\n",
      "At random state 83, The test accuracy is: 0.7430733435395471\n",
      "\n",
      "\n",
      "At random state 84, The training accuracy is: 0.7553663242654571\n",
      "At random state 84, The test accuracy is: 0.7120741388904219\n",
      "\n",
      "\n",
      "At random state 85, The training accuracy is: 0.8000481769483762\n",
      "At random state 85, The test accuracy is: 0.5348355405749562\n",
      "\n",
      "\n",
      "At random state 86, The training accuracy is: 0.7298402009039087\n",
      "At random state 86, The test accuracy is: 0.8012848730004256\n",
      "\n",
      "\n",
      "At random state 87, The training accuracy is: 0.734675384895758\n",
      "At random state 87, The test accuracy is: 0.8120531710875738\n",
      "\n",
      "\n",
      "At random state 88, The training accuracy is: 0.732859776023292\n",
      "At random state 88, The test accuracy is: 0.8060373505669676\n",
      "\n",
      "\n",
      "At random state 89, The training accuracy is: 0.7335315806627655\n",
      "At random state 89, The test accuracy is: 0.796961000179023\n",
      "\n",
      "\n",
      "At random state 90, The training accuracy is: 0.7817965184961265\n",
      "At random state 90, The test accuracy is: 0.5871499142264553\n",
      "\n",
      "\n",
      "At random state 91, The training accuracy is: 0.7640414479135142\n",
      "At random state 91, The test accuracy is: 0.649258490844747\n",
      "\n",
      "\n",
      "At random state 92, The training accuracy is: 0.7367407277961664\n",
      "At random state 92, The test accuracy is: 0.7817520124854169\n",
      "\n",
      "\n",
      "At random state 93, The training accuracy is: 0.7572671908684616\n",
      "At random state 93, The test accuracy is: 0.6939668012982723\n",
      "\n",
      "\n",
      "At random state 94, The training accuracy is: 0.7387219378616098\n",
      "At random state 94, The test accuracy is: 0.7724900217194244\n",
      "\n",
      "\n",
      "At random state 95, The training accuracy is: 0.7386044985552338\n",
      "At random state 95, The test accuracy is: 0.7832160147590094\n",
      "\n",
      "\n",
      "At random state 96, The training accuracy is: 0.744023193054594\n",
      "At random state 96, The test accuracy is: 0.7494126597724552\n",
      "\n",
      "\n",
      "At random state 97, The training accuracy is: 0.7522868672113173\n",
      "At random state 97, The test accuracy is: 0.6944847443966058\n",
      "\n",
      "\n",
      "At random state 98, The training accuracy is: 0.7448788701045281\n",
      "At random state 98, The test accuracy is: 0.7460535423977912\n",
      "\n",
      "\n",
      "At random state 99, The training accuracy is: 0.7889295244278212\n",
      "At random state 99, The test accuracy is: 0.5959094057206671\n",
      "\n",
      "\n"
     ]
    }
   ],
   "source": [
    "# Checking the best random state\n",
    "\n",
    "lr= LinearRegression()\n",
    "\n",
    "for i in range(0,100):\n",
    "    x_train, x_test, y_train, y_test= train_test_split(x,y,test_size=0.2, random_state=i)\n",
    "    lr.fit(x_train, y_train)\n",
    "    lr_predict_train= lr.predict(x_train)\n",
    "    lr_predict_test= lr.predict(x_test)\n",
    "    print(f'At random state {i}, The training accuracy is: {r2_score(y_train, lr_predict_train)}')\n",
    "    print(f'At random state {i}, The test accuracy is: {r2_score(y_test, lr_predict_test)}')\n",
    "    print('\\n')"
   ]
  },
  {
   "cell_type": "markdown",
   "id": "321b780a",
   "metadata": {},
   "source": [
    "Random State= 95 giving highest accuracy rate, choosing that as random state."
   ]
  },
  {
   "cell_type": "code",
   "execution_count": 64,
   "id": "f134640e",
   "metadata": {},
   "outputs": [],
   "source": [
    "# Splitting the data \n",
    "x_train, x_test, y_train, y_test= train_test_split(x,y,test_size=0.27, random_state=95)"
   ]
  },
  {
   "cell_type": "code",
   "execution_count": 65,
   "id": "5c6b2913",
   "metadata": {},
   "outputs": [
    {
     "data": {
      "text/plain": [
       "(643, 11)"
      ]
     },
     "execution_count": 65,
     "metadata": {},
     "output_type": "execute_result"
    }
   ],
   "source": [
    "x_train.shape"
   ]
  },
  {
   "cell_type": "code",
   "execution_count": 66,
   "id": "392e2256",
   "metadata": {},
   "outputs": [
    {
     "data": {
      "text/plain": [
       "(239, 11)"
      ]
     },
     "execution_count": 66,
     "metadata": {},
     "output_type": "execute_result"
    }
   ],
   "source": [
    "x_test.shape"
   ]
  },
  {
   "cell_type": "code",
   "execution_count": 67,
   "id": "c071aceb",
   "metadata": {},
   "outputs": [
    {
     "data": {
      "text/plain": [
       "(643,)"
      ]
     },
     "execution_count": 67,
     "metadata": {},
     "output_type": "execute_result"
    }
   ],
   "source": [
    "y_train.shape"
   ]
  },
  {
   "cell_type": "code",
   "execution_count": 68,
   "id": "c8e298d1",
   "metadata": {},
   "outputs": [
    {
     "data": {
      "text/plain": [
       "(239,)"
      ]
     },
     "execution_count": 68,
     "metadata": {},
     "output_type": "execute_result"
    }
   ],
   "source": [
    "y_test.shape"
   ]
  },
  {
   "cell_type": "code",
   "execution_count": 69,
   "id": "eb3ba403",
   "metadata": {},
   "outputs": [
    {
     "name": "stdout",
     "output_type": "stream",
     "text": [
      "0.7259531961103344\n"
     ]
    }
   ],
   "source": [
    "lr.fit(x_train, y_train)\n",
    "print(lr.score(x_train, y_train))\n",
    "lr_predict= lr.predict(x_test)"
   ]
  },
  {
   "cell_type": "code",
   "execution_count": 70,
   "id": "f47a747a",
   "metadata": {},
   "outputs": [
    {
     "name": "stdout",
     "output_type": "stream",
     "text": [
      "MSE: 28041.664937744372\n",
      "MAE: 114.97052993422868\n",
      "r2_score: 0.7699949200783783\n"
     ]
    }
   ],
   "source": [
    "print('MSE:', mean_squared_error(lr_predict, y_test))\n",
    "print('MAE:', mean_absolute_error(lr_predict, y_test))\n",
    "print('r2_score:', r2_score(lr_predict, y_test))"
   ]
  },
  {
   "cell_type": "markdown",
   "id": "2bc9f42b",
   "metadata": {},
   "source": [
    "### RIDGE"
   ]
  },
  {
   "cell_type": "code",
   "execution_count": 71,
   "id": "1fc71856",
   "metadata": {},
   "outputs": [
    {
     "name": "stdout",
     "output_type": "stream",
     "text": [
      "0.7248905035076589\n"
     ]
    }
   ],
   "source": [
    "r= Ridge()\n",
    "r.fit(x_train, y_train)\n",
    "print(r.score(x_train, y_train))\n",
    "r_predict= r.predict(x_test)"
   ]
  },
  {
   "cell_type": "code",
   "execution_count": 72,
   "id": "c520c805",
   "metadata": {},
   "outputs": [
    {
     "name": "stdout",
     "output_type": "stream",
     "text": [
      "MSE: 27483.1866707442\n",
      "MAE: 114.50788369558427\n",
      "r2_score: 0.7665440363636685\n"
     ]
    }
   ],
   "source": [
    "print('MSE:', mean_squared_error(r_predict, y_test))\n",
    "print('MAE:', mean_absolute_error(r_predict, y_test))\n",
    "print('r2_score:', r2_score(r_predict, y_test))"
   ]
  },
  {
   "cell_type": "markdown",
   "id": "99db2e3b",
   "metadata": {},
   "source": [
    "### SVR"
   ]
  },
  {
   "cell_type": "markdown",
   "id": "a244e05a",
   "metadata": {},
   "source": [
    "#### Kernel= 'Linear'"
   ]
  },
  {
   "cell_type": "code",
   "execution_count": 73,
   "id": "025eebe1",
   "metadata": {},
   "outputs": [
    {
     "name": "stdout",
     "output_type": "stream",
     "text": [
      "0.09199944192571718\n"
     ]
    }
   ],
   "source": [
    "svr= SVR(kernel='linear')\n",
    "svr.fit(x_train, y_train)\n",
    "print(svr.score(x_train, y_train))\n",
    "svr_predict= svr.predict(x_test)"
   ]
  },
  {
   "cell_type": "code",
   "execution_count": 74,
   "id": "15196451",
   "metadata": {},
   "outputs": [
    {
     "name": "stdout",
     "output_type": "stream",
     "text": [
      "MSE: 118198.142249002\n",
      "MAE: 175.30933786184724\n",
      "r2_score: -19.534649254878204\n"
     ]
    }
   ],
   "source": [
    "print('MSE:', mean_squared_error(svr_predict, y_test))\n",
    "print('MAE:', mean_absolute_error(svr_predict, y_test))\n",
    "print('r2_score:', r2_score(svr_predict, y_test))"
   ]
  },
  {
   "cell_type": "markdown",
   "id": "b06fbcc0",
   "metadata": {},
   "source": [
    "#### Kernel= 'Poly'"
   ]
  },
  {
   "cell_type": "code",
   "execution_count": 75,
   "id": "6daac86b",
   "metadata": {},
   "outputs": [
    {
     "name": "stdout",
     "output_type": "stream",
     "text": [
      "0.5743297635986613\n"
     ]
    }
   ],
   "source": [
    "svr_p= SVR(kernel='poly')\n",
    "svr_p.fit(x_train, y_train)\n",
    "print(svr_p.score(x_train, y_train))\n",
    "svrpred_p= svr_p.predict(x_test)"
   ]
  },
  {
   "cell_type": "code",
   "execution_count": 76,
   "id": "08fb00c9",
   "metadata": {},
   "outputs": [
    {
     "name": "stdout",
     "output_type": "stream",
     "text": [
      "MSE: 37894.8569546334\n",
      "MAE: 101.61477396805591\n",
      "r2_score: 0.41646821662471656\n"
     ]
    }
   ],
   "source": [
    "print('MSE:', mean_squared_error(svrpred_p, y_test))\n",
    "print('MAE:', mean_absolute_error(svrpred_p, y_test))\n",
    "print('r2_score:', r2_score(svrpred_p, y_test))"
   ]
  },
  {
   "cell_type": "markdown",
   "id": "19ed2aff",
   "metadata": {},
   "source": [
    "#### Kernel= 'rbf'"
   ]
  },
  {
   "cell_type": "code",
   "execution_count": 83,
   "id": "19c45c5c",
   "metadata": {},
   "outputs": [
    {
     "name": "stdout",
     "output_type": "stream",
     "text": [
      "-0.07260698245401609\n"
     ]
    }
   ],
   "source": [
    "svr_r= SVR(kernel='rbf')\n",
    "svr_r.fit(x_train, y_train)\n",
    "print(svr_r.score(x_train, y_train))\n",
    "svrpred_r= svr_r.predict(x_test)"
   ]
  },
  {
   "cell_type": "code",
   "execution_count": 84,
   "id": "c07411dd",
   "metadata": {},
   "outputs": [
    {
     "name": "stdout",
     "output_type": "stream",
     "text": [
      "MSE: 143632.7441782382\n",
      "MAE: 188.2140470123138\n",
      "r2_score: -71.60563099173544\n"
     ]
    }
   ],
   "source": [
    "print('MSE:', mean_squared_error(svrpred_r, y_test))\n",
    "print('MAE:', mean_absolute_error(svrpred_r, y_test))\n",
    "print('r2_score:', r2_score(svrpred_r, y_test))"
   ]
  },
  {
   "cell_type": "markdown",
   "id": "39c8f7d9",
   "metadata": {},
   "source": [
    "## RANDOM FOREST REGRESSOR"
   ]
  },
  {
   "cell_type": "code",
   "execution_count": 77,
   "id": "26eb2e1c",
   "metadata": {},
   "outputs": [
    {
     "name": "stdout",
     "output_type": "stream",
     "text": [
      "0.966739730317011\n"
     ]
    }
   ],
   "source": [
    "rf= RandomForestRegressor()\n",
    "rf.fit(x_train, y_train)\n",
    "print(rf.score(x_train, y_train))\n",
    "rf_predict= rf.predict(x_test)"
   ]
  },
  {
   "cell_type": "code",
   "execution_count": 78,
   "id": "9b03edfc",
   "metadata": {},
   "outputs": [
    {
     "name": "stdout",
     "output_type": "stream",
     "text": [
      "MSE: 24299.539558199715\n",
      "MAE: 85.26718016398976\n",
      "r2_score: 0.8296693363859077\n"
     ]
    }
   ],
   "source": [
    "print('MSE:', mean_squared_error(rf_predict, y_test))\n",
    "print('MAE:', mean_absolute_error(rf_predict, y_test))\n",
    "print('r2_score:', r2_score(rf_predict, y_test))"
   ]
  },
  {
   "cell_type": "markdown",
   "id": "962eb7cf",
   "metadata": {},
   "source": [
    "## DECISION TREE REGRESSOR"
   ]
  },
  {
   "cell_type": "code",
   "execution_count": 79,
   "id": "ccde7f2a",
   "metadata": {},
   "outputs": [
    {
     "name": "stdout",
     "output_type": "stream",
     "text": [
      "0.9998772628097563\n"
     ]
    }
   ],
   "source": [
    "dtr= DecisionTreeRegressor()\n",
    "dtr.fit(x_train, y_train)\n",
    "print(dtr.score(x_train, y_train))\n",
    "dtr_predict= dtr.predict(x_test)"
   ]
  },
  {
   "cell_type": "code",
   "execution_count": 80,
   "id": "d0775695",
   "metadata": {},
   "outputs": [
    {
     "name": "stdout",
     "output_type": "stream",
     "text": [
      "MSE: 62858.85416052998\n",
      "MAE: 120.34673640167364\n",
      "r2_score: 0.6749469569825983\n"
     ]
    }
   ],
   "source": [
    "print('MSE:', mean_squared_error(dtr_predict, y_test))\n",
    "print('MAE:', mean_absolute_error(dtr_predict, y_test))\n",
    "print('r2_score:', r2_score(dtr_predict, y_test))"
   ]
  },
  {
   "cell_type": "markdown",
   "id": "12f294b1",
   "metadata": {},
   "source": [
    "## GRADIENT BOOSTING REGRESSOR"
   ]
  },
  {
   "cell_type": "code",
   "execution_count": 81,
   "id": "e669a5f3",
   "metadata": {},
   "outputs": [
    {
     "name": "stdout",
     "output_type": "stream",
     "text": [
      "0.9639120765444308\n"
     ]
    }
   ],
   "source": [
    "gbr= GradientBoostingRegressor()\n",
    "gbr.fit(x_train, y_train)\n",
    "print(gbr.score(x_train, y_train))\n",
    "gbr_predict= gbr.predict(x_test)"
   ]
  },
  {
   "cell_type": "code",
   "execution_count": 82,
   "id": "c15fcea7",
   "metadata": {},
   "outputs": [
    {
     "name": "stdout",
     "output_type": "stream",
     "text": [
      "MSE: 30236.299129839754\n",
      "MAE: 91.8698687889197\n",
      "r2_score: 0.798492121618386\n"
     ]
    }
   ],
   "source": [
    "print('MSE:', mean_squared_error(gbr_predict, y_test))\n",
    "print('MAE:', mean_absolute_error(gbr_predict, y_test))\n",
    "print('r2_score:', r2_score(gbr_predict, y_test))"
   ]
  },
  {
   "cell_type": "markdown",
   "id": "1232fe19",
   "metadata": {},
   "source": [
    "## CROSS VALIDATION"
   ]
  },
  {
   "cell_type": "code",
   "execution_count": 87,
   "id": "ba3087d9",
   "metadata": {},
   "outputs": [
    {
     "name": "stdout",
     "output_type": "stream",
     "text": [
      "lr    : 46926.493565, 20308.734900\n",
      "r    : 45440.456598, 20232.644750\n",
      "svr    : 146367.436407, 54389.803777\n",
      "svr_p    : 63378.956231, 29198.434944\n",
      "svr_r    : 176652.061047, 64111.746985\n",
      "rf    : 39137.653156, 21514.898890\n",
      "dtr    : 69668.269221, 16468.683014\n",
      "gbr    : 42939.630629, 23625.793352\n"
     ]
    }
   ],
   "source": [
    "np.random.seed(10)\n",
    "def rmse_cv(model,x,y):\n",
    "    rmse =- (cross_val_score(model, x,y, scoring= 'neg_mean_squared_error', cv=10))\n",
    "    return(rmse)\n",
    "\n",
    "models= [LinearRegression(), Ridge(), SVR(kernel='linear'), SVR(kernel='poly'), SVR(kernel='rbf'), RandomForestRegressor(), DecisionTreeRegressor(), GradientBoostingRegressor()]\n",
    "\n",
    "names= ['lr', 'r', 'svr', 'svr_p', 'svr_r', 'rf', 'dtr', 'gbr']\n",
    "for model, name in zip(models,names):\n",
    "    score= rmse_cv(model,x,y)\n",
    "    print(\"{}    : {:.6f}, {:4f}\".format(name,score.mean(), score.std()))"
   ]
  },
  {
   "cell_type": "markdown",
   "id": "476751a4",
   "metadata": {},
   "source": [
    "## HYPER PARAMETER TUNING"
   ]
  },
  {
   "cell_type": "markdown",
   "id": "12395cd8",
   "metadata": {},
   "source": [
    "### GRID SEARCH CV"
   ]
  },
  {
   "cell_type": "code",
   "execution_count": 89,
   "id": "6ff2d9b9",
   "metadata": {},
   "outputs": [],
   "source": [
    "# With GradientBoostingRegressor\n",
    "GF= GradientBoostingRegressor()\n",
    "param= {'criterion':['mse', 'mae'], 'n_estimators':[100, 200],}"
   ]
  },
  {
   "cell_type": "code",
   "execution_count": 90,
   "id": "1929af36",
   "metadata": {},
   "outputs": [],
   "source": [
    "GF_grid= GridSearchCV(RandomForestRegressor(), param, cv=10, scoring= 'accuracy', n_jobs=-1, verbose=2)"
   ]
  },
  {
   "cell_type": "code",
   "execution_count": 91,
   "id": "45617f5c",
   "metadata": {},
   "outputs": [
    {
     "name": "stdout",
     "output_type": "stream",
     "text": [
      "Fitting 10 folds for each of 4 candidates, totalling 40 fits\n"
     ]
    }
   ],
   "source": [
    "GF_grid.fit(x_train, y_train)\n",
    "GF_grid_pred= GF_grid.best_estimator_.predict(x_test)"
   ]
  },
  {
   "cell_type": "code",
   "execution_count": 92,
   "id": "ad5f9aaa",
   "metadata": {},
   "outputs": [
    {
     "data": {
      "text/plain": [
       "{'criterion': 'mse', 'n_estimators': 100}"
      ]
     },
     "execution_count": 92,
     "metadata": {},
     "output_type": "execute_result"
    }
   ],
   "source": [
    "GF_grid.best_params_"
   ]
  },
  {
   "cell_type": "code",
   "execution_count": 94,
   "id": "d4eb618c",
   "metadata": {},
   "outputs": [
    {
     "name": "stdout",
     "output_type": "stream",
     "text": [
      "MSE: 24353.51504381891\n",
      "MAE: 86.27195064957498\n",
      "r2_score: 0.8240457567711477\n"
     ]
    }
   ],
   "source": [
    "print('MSE:', mean_squared_error(GF_grid_pred, y_test))\n",
    "print('MAE:', mean_absolute_error(GF_grid_pred, y_test))\n",
    "print('r2_score:', r2_score(GF_grid_pred, y_test))"
   ]
  },
  {
   "cell_type": "code",
   "execution_count": 95,
   "id": "f9009fd8",
   "metadata": {},
   "outputs": [
    {
     "data": {
      "text/plain": [
       "<AxesSubplot:xlabel='capacity_mw', ylabel='Density'>"
      ]
     },
     "execution_count": 95,
     "metadata": {},
     "output_type": "execute_result"
    },
    {
     "data": {
      "image/png": "[encoded data removed]",
      "text/plain": [
       "<Figure size 640x480 with 1 Axes>"
      ]
     },
     "metadata": {},
     "output_type": "display_data"
    }
   ],
   "source": [
    "sns.distplot(GF_grid_pred-y_test)"
   ]
  },
  {
   "cell_type": "code",
   "execution_count": 96,
   "id": "1e404a95",
   "metadata": {},
   "outputs": [
    {
     "data": {
      "text/plain": [
       "[<matplotlib.lines.Line2D at 0x2f29dcaaa60>]"
      ]
     },
     "execution_count": 96,
     "metadata": {},
     "output_type": "execute_result"
    },
    {
     "data": {
      "image/png": "[encoded data removed]",
      "text/plain": [
       "<Figure size 640x480 with 1 Axes>"
      ]
     },
     "metadata": {},
     "output_type": "display_data"
    }
   ],
   "source": [
    "plt.scatter(GF_grid_pred, y_test)\n",
    "plt.plot(y_test, y_test, linewidth=2, color='r')"
   ]
  },
  {
   "cell_type": "markdown",
   "id": "7fa612d3",
   "metadata": {},
   "source": [
    "### Saving the Model"
   ]
  },
  {
   "cell_type": "code",
   "execution_count": 97,
   "id": "5dcc3231",
   "metadata": {},
   "outputs": [],
   "source": [
    "import joblib"
   ]
  },
  {
   "cell_type": "code",
   "execution_count": 98,
   "id": "2e339088",
   "metadata": {},
   "outputs": [
    {
     "data": {
      "text/plain": [
       "['Global Power Plant Database Regression.obj']"
      ]
     },
     "execution_count": 98,
     "metadata": {},
     "output_type": "execute_result"
    }
   ],
   "source": [
    "joblib.dump(GF_grid.best_estimator_,'Global Power Plant Database Regression.obj')"
   ]
  },
  {
   "cell_type": "markdown",
   "id": "15f6f598",
   "metadata": {},
   "source": [
    "### Taking 'primary_fuel' as target, creating Classification Model"
   ]
  },
  {
   "cell_type": "markdown",
   "id": "4cf73072",
   "metadata": {},
   "source": [
    "#### Dividing data into X & Y"
   ]
  },
  {
   "cell_type": "code",
   "execution_count": 99,
   "id": "9dd2e048",
   "metadata": {},
   "outputs": [],
   "source": [
    "x= gpp.drop(['primary_fuel'], axis=1)\n",
    "y= gpp['primary_fuel']"
   ]
  },
  {
   "cell_type": "code",
   "execution_count": 100,
   "id": "61a7be04",
   "metadata": {},
   "outputs": [
    {
     "data": {
      "text/plain": [
       "(882, 11)"
      ]
     },
     "execution_count": 100,
     "metadata": {},
     "output_type": "execute_result"
    }
   ],
   "source": [
    "x.shape"
   ]
  },
  {
   "cell_type": "code",
   "execution_count": 101,
   "id": "a4c487e6",
   "metadata": {},
   "outputs": [
    {
     "data": {
      "text/plain": [
       "(882,)"
      ]
     },
     "execution_count": 101,
     "metadata": {},
     "output_type": "execute_result"
    }
   ],
   "source": [
    "y.shape"
   ]
  },
  {
   "cell_type": "markdown",
   "id": "0fdb5b24",
   "metadata": {},
   "source": [
    "### Splitting train and test data"
   ]
  },
  {
   "cell_type": "code",
   "execution_count": 102,
   "id": "7cdefdba",
   "metadata": {},
   "outputs": [],
   "source": [
    "x_train, x_test, y_train, y_test= train_test_split(x,y, test_size=.27, random_state=42)"
   ]
  },
  {
   "cell_type": "code",
   "execution_count": 103,
   "id": "b43f1ad3",
   "metadata": {},
   "outputs": [
    {
     "data": {
      "text/plain": [
       "(643, 11)"
      ]
     },
     "execution_count": 103,
     "metadata": {},
     "output_type": "execute_result"
    }
   ],
   "source": [
    "x_train.shape"
   ]
  },
  {
   "cell_type": "code",
   "execution_count": 104,
   "id": "f3a0e974",
   "metadata": {},
   "outputs": [
    {
     "data": {
      "text/plain": [
       "(239, 11)"
      ]
     },
     "execution_count": 104,
     "metadata": {},
     "output_type": "execute_result"
    }
   ],
   "source": [
    "x_test.shape"
   ]
  },
  {
   "cell_type": "code",
   "execution_count": 105,
   "id": "c3e0824f",
   "metadata": {},
   "outputs": [
    {
     "data": {
      "text/plain": [
       "(643,)"
      ]
     },
     "execution_count": 105,
     "metadata": {},
     "output_type": "execute_result"
    }
   ],
   "source": [
    "y_train.shape"
   ]
  },
  {
   "cell_type": "code",
   "execution_count": 106,
   "id": "e4269074",
   "metadata": {},
   "outputs": [
    {
     "data": {
      "text/plain": [
       "(239,)"
      ]
     },
     "execution_count": 106,
     "metadata": {},
     "output_type": "execute_result"
    }
   ],
   "source": [
    "y_test.shape"
   ]
  },
  {
   "cell_type": "markdown",
   "id": "d7f36598",
   "metadata": {},
   "source": [
    "## MODEL BUILDING"
   ]
  },
  {
   "cell_type": "markdown",
   "id": "1385f579",
   "metadata": {},
   "source": [
    "### IMPORTING LIBRARIES"
   ]
  },
  {
   "cell_type": "code",
   "execution_count": 107,
   "id": "fe7936dc",
   "metadata": {},
   "outputs": [],
   "source": [
    "from sklearn.linear_model import LogisticRegression\n",
    "from sklearn.svm import SVC\n",
    "from sklearn.tree import DecisionTreeClassifier\n",
    "from sklearn.neighbors import KNeighborsClassifier\n",
    "from sklearn.model_selection import train_test_split, GridSearchCV, cross_val_score\n",
    "from sklearn.metrics import accuracy_score, confusion_matrix, classification_report, precision_score, recall_score, f1_score\n",
    "from sklearn.ensemble import RandomForestClassifier, AdaBoostClassifier, BaggingClassifier, GradientBoostingClassifier\n",
    "import warnings\n",
    "warnings.filterwarnings('ignore')"
   ]
  },
  {
   "cell_type": "markdown",
   "id": "6e91142e",
   "metadata": {},
   "source": [
    "### LOGISTIC REGRESSION"
   ]
  },
  {
   "cell_type": "code",
   "execution_count": 108,
   "id": "87ab59f6",
   "metadata": {},
   "outputs": [
    {
     "name": "stdout",
     "output_type": "stream",
     "text": [
      "Cross validation score: 0.641743708269132\n"
     ]
    }
   ],
   "source": [
    "LR= LogisticRegression()\n",
    "LR_score= cross_val_score(LR,x,y,cv=5, scoring= 'accuracy')\n",
    "print(\"Cross validation score:\", np.mean(LR_score))"
   ]
  },
  {
   "cell_type": "code",
   "execution_count": 109,
   "id": "7d306ca0",
   "metadata": {},
   "outputs": [
    {
     "name": "stdout",
     "output_type": "stream",
     "text": [
      "0.6527196652719666\n",
      "[[ 0  1  0  0  0  0  6  3]\n",
      " [ 0 44  3 12  0  0  8  8]\n",
      " [ 0  5  1 10  0  0  1  1]\n",
      " [ 0  9  0 58  0  0  0  0]\n",
      " [ 0  2  0  1  0  0  0  0]\n",
      " [ 0  0  0  2  0  0  2  0]\n",
      " [ 0  1  0  0  0  0 24  8]\n",
      " [ 0  0  0  0  0  0  0 29]]\n",
      "              precision    recall  f1-score   support\n",
      "\n",
      "           0       0.00      0.00      0.00        10\n",
      "           1       0.71      0.59      0.64        75\n",
      "           2       0.25      0.06      0.09        18\n",
      "           3       0.70      0.87      0.77        67\n",
      "           4       0.00      0.00      0.00         3\n",
      "           5       0.00      0.00      0.00         4\n",
      "           6       0.59      0.73      0.65        33\n",
      "           7       0.59      1.00      0.74        29\n",
      "\n",
      "    accuracy                           0.65       239\n",
      "   macro avg       0.35      0.40      0.36       239\n",
      "weighted avg       0.59      0.65      0.60       239\n",
      "\n",
      "Training accuracy:: 0.656298600311042\n",
      "Test accuracy:: 0.6527196652719666\n"
     ]
    }
   ],
   "source": [
    "LR.fit(x_train, y_train)\n",
    "lr_predicted= LR.predict(x_test)\n",
    "\n",
    "print(accuracy_score(y_test, lr_predicted))\n",
    "print(confusion_matrix(y_test, lr_predicted))\n",
    "print(classification_report(y_test, lr_predicted))\n",
    "print(\"Training accuracy::\", LR.score(x_train, y_train))\n",
    "print(\"Test accuracy::\", LR.score(x_test, y_test))"
   ]
  },
  {
   "cell_type": "markdown",
   "id": "19443609",
   "metadata": {},
   "source": [
    "### DECISION TREE CLASSIFIER"
   ]
  },
  {
   "cell_type": "code",
   "execution_count": 110,
   "id": "855d7174",
   "metadata": {},
   "outputs": [
    {
     "name": "stdout",
     "output_type": "stream",
     "text": [
      "Cross validation score for svm: 0.8072483307652799\n"
     ]
    }
   ],
   "source": [
    "dtc= DecisionTreeClassifier()\n",
    "dtc_score= cross_val_score(dtc,x,y,cv=5, scoring= 'accuracy')\n",
    "print(\"Cross validation score for svm:\", np.mean(dtc_score))"
   ]
  },
  {
   "cell_type": "code",
   "execution_count": 111,
   "id": "b2bb29ab",
   "metadata": {},
   "outputs": [
    {
     "name": "stdout",
     "output_type": "stream",
     "text": [
      "0.7531380753138075\n",
      "[[ 8  1  0  0  0  0  1  0]\n",
      " [ 5 47  7  7  8  1  0  0]\n",
      " [ 0  6  4  6  0  2  0  0]\n",
      " [ 0  3  6 58  0  0  0  0]\n",
      " [ 0  1  2  0  0  0  0  0]\n",
      " [ 0  0  2  0  0  2  0  0]\n",
      " [ 0  1  0  0  0  0 32  0]\n",
      " [ 0  0  0  0  0  0  0 29]]\n",
      "              precision    recall  f1-score   support\n",
      "\n",
      "           0       0.62      0.80      0.70        10\n",
      "           1       0.80      0.63      0.70        75\n",
      "           2       0.19      0.22      0.21        18\n",
      "           3       0.82      0.87      0.84        67\n",
      "           4       0.00      0.00      0.00         3\n",
      "           5       0.40      0.50      0.44         4\n",
      "           6       0.97      0.97      0.97        33\n",
      "           7       1.00      1.00      1.00        29\n",
      "\n",
      "    accuracy                           0.75       239\n",
      "   macro avg       0.60      0.62      0.61       239\n",
      "weighted avg       0.78      0.75      0.76       239\n",
      "\n",
      "Training accuracy:: 1.0\n",
      "Test accuracy:: 0.7531380753138075\n"
     ]
    }
   ],
   "source": [
    "dtc.fit(x_train, y_train)\n",
    "predicted_dtc= dtc.predict(x_test)\n",
    "\n",
    "print(accuracy_score(y_test, predicted_dtc))\n",
    "print(confusion_matrix(y_test, predicted_dtc))\n",
    "print(classification_report(y_test, predicted_dtc))\n",
    "print(\"Training accuracy::\", dtc.score(x_train, y_train))\n",
    "print(\"Test accuracy::\", dtc.score(x_test, y_test))"
   ]
  },
  {
   "cell_type": "markdown",
   "id": "e03fec3a",
   "metadata": {},
   "source": [
    "### KNEIGHBORS CLASSIFIER"
   ]
  },
  {
   "cell_type": "code",
   "execution_count": 112,
   "id": "1efee699",
   "metadata": {},
   "outputs": [
    {
     "name": "stdout",
     "output_type": "stream",
     "text": [
      "Cross validation score for knn: 0.7278954802259886\n"
     ]
    }
   ],
   "source": [
    "knn= KNeighborsClassifier()\n",
    "knn_score= cross_val_score(knn,x,y,cv=5, scoring= 'accuracy')\n",
    "print(\"Cross validation score for knn:\", np.mean(knn_score))"
   ]
  },
  {
   "cell_type": "code",
   "execution_count": 113,
   "id": "77b0a6e0",
   "metadata": {},
   "outputs": [
    {
     "name": "stdout",
     "output_type": "stream",
     "text": [
      "0.7280334728033473\n",
      "[[ 5  3  0  0  0  0  1  1]\n",
      " [ 3 53  2  6  0  1  4  6]\n",
      " [ 0  8  2  6  0  1  0  1]\n",
      " [ 0  8  1 58  0  0  0  0]\n",
      " [ 0  1  1  1  0  0  0  0]\n",
      " [ 0  2  1  0  0  1  0  0]\n",
      " [ 4  1  0  0  0  0 26  2]\n",
      " [ 0  0  0  0  0  0  0 29]]\n",
      "              precision    recall  f1-score   support\n",
      "\n",
      "           0       0.42      0.50      0.45        10\n",
      "           1       0.70      0.71      0.70        75\n",
      "           2       0.29      0.11      0.16        18\n",
      "           3       0.82      0.87      0.84        67\n",
      "           4       0.00      0.00      0.00         3\n",
      "           5       0.33      0.25      0.29         4\n",
      "           6       0.84      0.79      0.81        33\n",
      "           7       0.74      1.00      0.85        29\n",
      "\n",
      "    accuracy                           0.73       239\n",
      "   macro avg       0.52      0.53      0.51       239\n",
      "weighted avg       0.70      0.73      0.71       239\n",
      "\n",
      "Training accuracy:: 0.8055987558320373\n",
      "Test accuracy:: 0.7280334728033473\n"
     ]
    }
   ],
   "source": [
    "knn.fit(x_train, y_train)\n",
    "predicted_knn= knn.predict(x_test)\n",
    "\n",
    "print(accuracy_score(y_test, predicted_knn))\n",
    "print(confusion_matrix(y_test, predicted_knn))\n",
    "print(classification_report(y_test, predicted_knn))\n",
    "print(\"Training accuracy::\", knn.score(x_train, y_train))\n",
    "print(\"Test accuracy::\", knn.score(x_test, y_test))"
   ]
  },
  {
   "cell_type": "markdown",
   "id": "272b6f92",
   "metadata": {},
   "source": [
    "### RANDOM FOREST CLASSIFIER"
   ]
  },
  {
   "cell_type": "code",
   "execution_count": 114,
   "id": "41bbbebd",
   "metadata": {},
   "outputs": [
    {
     "name": "stdout",
     "output_type": "stream",
     "text": [
      "Cross validation score for rfc: 0.8492360041088854\n"
     ]
    }
   ],
   "source": [
    "rfc= RandomForestClassifier()\n",
    "rfc_score= cross_val_score(rfc,x,y,cv=5, scoring= 'accuracy')\n",
    "print(\"Cross validation score for rfc:\", np.mean(rfc_score))"
   ]
  },
  {
   "cell_type": "code",
   "execution_count": 115,
   "id": "4333adf1",
   "metadata": {},
   "outputs": [
    {
     "name": "stdout",
     "output_type": "stream",
     "text": [
      "0.8744769874476988\n",
      "[[ 8  1  0  0  0  0  0  1]\n",
      " [ 3 65  0  5  0  1  0  1]\n",
      " [ 0  6  8  2  0  1  0  1]\n",
      " [ 0  4  0 63  0  0  0  0]\n",
      " [ 0  2  1  0  0  0  0  0]\n",
      " [ 0  1  0  0  0  3  0  0]\n",
      " [ 0  0  0  0  0  0 33  0]\n",
      " [ 0  0  0  0  0  0  0 29]]\n",
      "              precision    recall  f1-score   support\n",
      "\n",
      "           0       0.73      0.80      0.76        10\n",
      "           1       0.82      0.87      0.84        75\n",
      "           2       0.89      0.44      0.59        18\n",
      "           3       0.90      0.94      0.92        67\n",
      "           4       0.00      0.00      0.00         3\n",
      "           5       0.60      0.75      0.67         4\n",
      "           6       1.00      1.00      1.00        33\n",
      "           7       0.91      1.00      0.95        29\n",
      "\n",
      "    accuracy                           0.87       239\n",
      "   macro avg       0.73      0.73      0.72       239\n",
      "weighted avg       0.87      0.87      0.86       239\n",
      "\n",
      "Training accuracy:: 0.9984447900466563\n",
      "Test accuracy:: 0.8744769874476988\n"
     ]
    }
   ],
   "source": [
    "rfc.fit(x_train, y_train)\n",
    "predicted_rfc= rfc.predict(x_test)\n",
    "\n",
    "print(accuracy_score(y_test, predicted_rfc))\n",
    "print(confusion_matrix(y_test, predicted_rfc))\n",
    "print(classification_report(y_test, predicted_rfc))\n",
    "print(\"Training accuracy::\", rfc.score(x_train, y_train))\n",
    "print(\"Test accuracy::\", rfc.score(x_test, y_test))"
   ]
  },
  {
   "cell_type": "markdown",
   "id": "d7fcabce",
   "metadata": {},
   "source": [
    "### ADA BOOST CLASSIFIER"
   ]
  },
  {
   "cell_type": "code",
   "execution_count": 116,
   "id": "cf15877f",
   "metadata": {},
   "outputs": [
    {
     "name": "stdout",
     "output_type": "stream",
     "text": [
      "Cross validation score for abc: 0.5363700564971751\n"
     ]
    }
   ],
   "source": [
    "abc= AdaBoostClassifier()\n",
    "abc_score= cross_val_score(abc,x,y,cv=5, scoring= 'accuracy')\n",
    "print(\"Cross validation score for abc:\", np.mean(abc_score))"
   ]
  },
  {
   "cell_type": "code",
   "execution_count": 117,
   "id": "93f6dd64",
   "metadata": {},
   "outputs": [
    {
     "name": "stdout",
     "output_type": "stream",
     "text": [
      "0.5313807531380753\n",
      "[[ 0  0  0  9  0  0  0  1]\n",
      " [ 0  0  0 72  0  0  0  3]\n",
      " [ 0  0  0 18  0  0  0  0]\n",
      " [ 0  0  0 67  0  0  0  0]\n",
      " [ 0  0  0  3  0  0  0  0]\n",
      " [ 0  0  0  4  0  0  0  0]\n",
      " [ 0  0  0  2  0  0 31  0]\n",
      " [ 0  0  0  0  0  0  0 29]]\n",
      "              precision    recall  f1-score   support\n",
      "\n",
      "           0       0.00      0.00      0.00        10\n",
      "           1       0.00      0.00      0.00        75\n",
      "           2       0.00      0.00      0.00        18\n",
      "           3       0.38      1.00      0.55        67\n",
      "           4       0.00      0.00      0.00         3\n",
      "           5       0.00      0.00      0.00         4\n",
      "           6       1.00      0.94      0.97        33\n",
      "           7       0.88      1.00      0.94        29\n",
      "\n",
      "    accuracy                           0.53       239\n",
      "   macro avg       0.28      0.37      0.31       239\n",
      "weighted avg       0.35      0.53      0.40       239\n",
      "\n",
      "Training accuracy:: 0.5754276827371695\n",
      "Test accuracy:: 0.5313807531380753\n"
     ]
    }
   ],
   "source": [
    "abc.fit(x_train, y_train)\n",
    "predicted_abc= abc.predict(x_test)\n",
    "\n",
    "print(accuracy_score(y_test, predicted_abc))\n",
    "print(confusion_matrix(y_test, predicted_abc))\n",
    "print(classification_report(y_test, predicted_abc))\n",
    "print(\"Training accuracy::\", abc.score(x_train, y_train))\n",
    "print(\"Test accuracy::\", abc.score(x_test, y_test))"
   ]
  },
  {
   "cell_type": "markdown",
   "id": "1a3086b9",
   "metadata": {},
   "source": [
    "### BAGGING CLASSIFIER"
   ]
  },
  {
   "cell_type": "code",
   "execution_count": 118,
   "id": "5ca89e25",
   "metadata": {},
   "outputs": [
    {
     "name": "stdout",
     "output_type": "stream",
     "text": [
      "Cross validation score for bgc: 0.8378916281458654\n"
     ]
    }
   ],
   "source": [
    "bgc= BaggingClassifier()\n",
    "bgc_score= cross_val_score(bgc,x,y,cv=5, scoring= 'accuracy')\n",
    "print(\"Cross validation score for bgc:\", np.mean(bgc_score))"
   ]
  },
  {
   "cell_type": "code",
   "execution_count": 119,
   "id": "398bfd14",
   "metadata": {},
   "outputs": [
    {
     "name": "stdout",
     "output_type": "stream",
     "text": [
      "0.8075313807531381\n",
      "[[ 8  2  0  0  0  0  0  0]\n",
      " [ 9 53  5  5  2  1  0  0]\n",
      " [ 0  7  7  3  0  1  0  0]\n",
      " [ 0  6  0 61  0  0  0  0]\n",
      " [ 0  2  1  0  0  0  0  0]\n",
      " [ 0  1  1  0  0  2  0  0]\n",
      " [ 0  0  0  0  0  0 33  0]\n",
      " [ 0  0  0  0  0  0  0 29]]\n",
      "              precision    recall  f1-score   support\n",
      "\n",
      "           0       0.47      0.80      0.59        10\n",
      "           1       0.75      0.71      0.73        75\n",
      "           2       0.50      0.39      0.44        18\n",
      "           3       0.88      0.91      0.90        67\n",
      "           4       0.00      0.00      0.00         3\n",
      "           5       0.50      0.50      0.50         4\n",
      "           6       1.00      1.00      1.00        33\n",
      "           7       1.00      1.00      1.00        29\n",
      "\n",
      "    accuracy                           0.81       239\n",
      "   macro avg       0.64      0.66      0.64       239\n",
      "weighted avg       0.81      0.81      0.80       239\n",
      "\n",
      "Training accuracy:: 0.9844479004665629\n",
      "Test accuracy:: 0.8075313807531381\n"
     ]
    }
   ],
   "source": [
    "bgc.fit(x_train, y_train)\n",
    "predicted_bgc= bgc.predict(x_test)\n",
    "\n",
    "print(accuracy_score(y_test, predicted_bgc))\n",
    "print(confusion_matrix(y_test, predicted_bgc))\n",
    "print(classification_report(y_test, predicted_bgc))\n",
    "print(\"Training accuracy::\", bgc.score(x_train, y_train))\n",
    "print(\"Test accuracy::\", bgc.score(x_test, y_test))"
   ]
  },
  {
   "cell_type": "markdown",
   "id": "e4e6762f",
   "metadata": {},
   "source": [
    "### GRADIENT BOOSTING CLASSIFIER"
   ]
  },
  {
   "cell_type": "code",
   "execution_count": 120,
   "id": "7bccdd0a",
   "metadata": {},
   "outputs": [
    {
     "name": "stdout",
     "output_type": "stream",
     "text": [
      "Cross validation score for gbc: 0.8628210066769387\n"
     ]
    }
   ],
   "source": [
    "gbc= GradientBoostingClassifier()\n",
    "gbc_score= cross_val_score(gbc,x,y,cv=5, scoring= 'accuracy')\n",
    "print(\"Cross validation score for gbc:\", np.mean(gbc_score))"
   ]
  },
  {
   "cell_type": "code",
   "execution_count": 121,
   "id": "a4cc36e1",
   "metadata": {},
   "outputs": [
    {
     "name": "stdout",
     "output_type": "stream",
     "text": [
      "0.8535564853556485\n",
      "[[ 7  3  0  0  0  0  0  0]\n",
      " [ 5 60  1  6  2  1  0  0]\n",
      " [ 0  6 10  2  0  0  0  0]\n",
      " [ 0  5  1 61  0  0  0  0]\n",
      " [ 0  1  0  1  1  0  0  0]\n",
      " [ 0  1  0  0  0  3  0  0]\n",
      " [ 0  0  0  0  0  0 33  0]\n",
      " [ 0  0  0  0  0  0  0 29]]\n",
      "              precision    recall  f1-score   support\n",
      "\n",
      "           0       0.58      0.70      0.64        10\n",
      "           1       0.79      0.80      0.79        75\n",
      "           2       0.83      0.56      0.67        18\n",
      "           3       0.87      0.91      0.89        67\n",
      "           4       0.33      0.33      0.33         3\n",
      "           5       0.75      0.75      0.75         4\n",
      "           6       1.00      1.00      1.00        33\n",
      "           7       1.00      1.00      1.00        29\n",
      "\n",
      "    accuracy                           0.85       239\n",
      "   macro avg       0.77      0.76      0.76       239\n",
      "weighted avg       0.86      0.85      0.85       239\n",
      "\n",
      "Training accuracy:: 1.0\n",
      "Test accuracy:: 0.8535564853556485\n"
     ]
    }
   ],
   "source": [
    "gbc.fit(x_train, y_train)\n",
    "predicted_gbc= gbc.predict(x_test)\n",
    "\n",
    "print(accuracy_score(y_test, predicted_gbc))\n",
    "print(confusion_matrix(y_test, predicted_gbc))\n",
    "print(classification_report(y_test, predicted_gbc))\n",
    "print(\"Training accuracy::\", gbc.score(x_train, y_train))\n",
    "print(\"Test accuracy::\", gbc.score(x_test, y_test))"
   ]
  },
  {
   "cell_type": "markdown",
   "id": "8847bfc0",
   "metadata": {},
   "source": [
    "#### RandomForestClassifier as final model for Hyper Parameter Tuning"
   ]
  },
  {
   "cell_type": "markdown",
   "id": "f70413fa",
   "metadata": {},
   "source": [
    "### HYPER PARAMETER TUNING"
   ]
  },
  {
   "cell_type": "code",
   "execution_count": 122,
   "id": "f3949b00",
   "metadata": {},
   "outputs": [],
   "source": [
    "rfc= RandomForestClassifier()\n",
    "param_grid= {'criterion' : [\"gini\", \"entropy\"], 'n_estimators' : [200,50], 'min_samples_split' :[2,3], 'random_state': [10]}"
   ]
  },
  {
   "cell_type": "code",
   "execution_count": 123,
   "id": "1eea17e6",
   "metadata": {},
   "outputs": [],
   "source": [
    "rfc_grid= GridSearchCV(RandomForestClassifier(), param_grid, cv=4, scoring= 'accuracy', n_jobs=-1, verbose=2)"
   ]
  },
  {
   "cell_type": "code",
   "execution_count": 125,
   "id": "2ea0ea10",
   "metadata": {},
   "outputs": [
    {
     "name": "stdout",
     "output_type": "stream",
     "text": [
      "Fitting 4 folds for each of 8 candidates, totalling 32 fits\n",
      "Accuracy after parameter tuning:: 0.8410041841004184\n"
     ]
    }
   ],
   "source": [
    "rfc_grid.fit(x_train, y_train)\n",
    "rfc_pred= rfc_grid.best_estimator_.predict(x_test)\n",
    "\n",
    "print(\"Accuracy after parameter tuning::\", accuracy_score(y_test, rfc_pred))"
   ]
  },
  {
   "cell_type": "code",
   "execution_count": 126,
   "id": "41238226",
   "metadata": {},
   "outputs": [
    {
     "data": {
      "text/plain": [
       "{'criterion': 'gini',\n",
       " 'min_samples_split': 2,\n",
       " 'n_estimators': 200,\n",
       " 'random_state': 10}"
      ]
     },
     "execution_count": 126,
     "metadata": {},
     "output_type": "execute_result"
    }
   ],
   "source": [
    "rfc_grid.best_params_"
   ]
  },
  {
   "cell_type": "markdown",
   "id": "f2b0a1bb",
   "metadata": {},
   "source": [
    "### Model Training with best Parameters"
   ]
  },
  {
   "cell_type": "code",
   "execution_count": 127,
   "id": "46f88d9c",
   "metadata": {},
   "outputs": [],
   "source": [
    "best_param= {'criterion' : [\"gini\"], 'n_estimators' : [200], 'min_samples_split' :[2], 'random_state': [10]}"
   ]
  },
  {
   "cell_type": "code",
   "execution_count": 128,
   "id": "b96619e1",
   "metadata": {},
   "outputs": [],
   "source": [
    "best_rfc_grid= GridSearchCV(RandomForestClassifier(), best_param, cv=4, scoring= 'accuracy', n_jobs=-1, verbose=2)"
   ]
  },
  {
   "cell_type": "code",
   "execution_count": 129,
   "id": "2b741e3e",
   "metadata": {},
   "outputs": [
    {
     "name": "stdout",
     "output_type": "stream",
     "text": [
      "Fitting 4 folds for each of 1 candidates, totalling 4 fits\n",
      "Accuracy after parameter tuning:: 0.8410041841004184\n"
     ]
    }
   ],
   "source": [
    "best_rfc_grid.fit(x_train, y_train)\n",
    "best_rfc_pred= best_rfc_grid.best_estimator_.predict(x_test)\n",
    "\n",
    "print(\"Accuracy after parameter tuning::\", accuracy_score(y_test, best_rfc_pred))"
   ]
  },
  {
   "cell_type": "markdown",
   "id": "9fdb05de",
   "metadata": {},
   "source": [
    "### REPORT OF RANDOM FOREST CLASSIFIER"
   ]
  },
  {
   "cell_type": "code",
   "execution_count": 130,
   "id": "97d6a582",
   "metadata": {},
   "outputs": [
    {
     "name": "stdout",
     "output_type": "stream",
     "text": [
      "CLASSIFICATION REPORT::\n",
      "               precision    recall  f1-score   support\n",
      "\n",
      "           0       0.64      0.70      0.67        10\n",
      "           1       0.78      0.83      0.80        75\n",
      "           2       0.55      0.33      0.41        18\n",
      "           3       0.91      0.93      0.92        67\n",
      "           4       0.00      0.00      0.00         3\n",
      "           5       0.50      0.50      0.50         4\n",
      "           6       1.00      1.00      1.00        33\n",
      "           7       0.91      1.00      0.95        29\n",
      "\n",
      "    accuracy                           0.84       239\n",
      "   macro avg       0.66      0.66      0.66       239\n",
      "weighted avg       0.82      0.84      0.83       239\n",
      "\n"
     ]
    }
   ],
   "source": [
    "print(\"CLASSIFICATION REPORT::\\n\", classification_report(y_test, best_rfc_pred))"
   ]
  },
  {
   "cell_type": "code",
   "execution_count": 132,
   "id": "db8ff7d2",
   "metadata": {},
   "outputs": [
    {
     "data": {
      "text/plain": [
       "<AxesSubplot:>"
      ]
     },
     "execution_count": 132,
     "metadata": {},
     "output_type": "execute_result"
    },
    {
     "data": {
      "image/png": "[encoded data removed]",
      "text/plain": [
       "<Figure size 640x480 with 2 Axes>"
      ]
     },
     "metadata": {},
     "output_type": "display_data"
    }
   ],
   "source": [
    "clsf_repo= classification_report(y_test, best_rfc_pred, output_dict= True)\n",
    "sns.heatmap(pd.DataFrame(clsf_repo).T, annot= True)"
   ]
  },
  {
   "cell_type": "code",
   "execution_count": 133,
   "id": "f5352f6f",
   "metadata": {},
   "outputs": [],
   "source": [
    "from sklearn.metrics import roc_auc_score"
   ]
  },
  {
   "cell_type": "code",
   "execution_count": 135,
   "id": "aab2a196",
   "metadata": {},
   "outputs": [
    {
     "name": "stdout",
     "output_type": "stream",
     "text": [
      "Fitting 4 folds for each of 1 candidates, totalling 4 fits\n",
      "One-vs-One Roc Auc Scores:\n",
      "0.930825 (macro),\n",
      "0.945601(weighted by prevalence)\n",
      "========================================\n",
      "One-vs-Rest Auc Scores:\n",
      "0.941960 (macro),\n",
      "0.967561(weighted by prevalence)\n"
     ]
    }
   ],
   "source": [
    "y_prob= best_rfc_grid.fit(x_train, y_train).predict_proba(x_test)\n",
    "\n",
    "macro_roc_auc_ovo= roc_auc_score(y_test, y_prob, multi_class= \"ovo\", average= \"macro\")\n",
    "weighted_roc_auc_ovo= roc_auc_score(y_test, y_prob, multi_class= \"ovo\", average= \"weighted\")\n",
    "macro_roc_auc_ovr= roc_auc_score(y_test, y_prob, multi_class= \"ovr\", average= \"macro\")\n",
    "weighted_roc_auc_ovr= roc_auc_score(y_test, y_prob, multi_class= \"ovr\", average= \"weighted\")\n",
    "\n",
    "print(\"One-vs-One Roc Auc Scores:\\n{:.6f} (macro),\\n{:.6f}\"\n",
    "      \"(weighted by prevalence)\".format(macro_roc_auc_ovo, weighted_roc_auc_ovo))\n",
    "\n",
    "print(\"=\"*40)\n",
    "print(\"One-vs-Rest Auc Scores:\\n{:.6f} (macro),\\n{:.6f}\"\n",
    "      \"(weighted by prevalence)\".format(macro_roc_auc_ovr, weighted_roc_auc_ovr))\n"
   ]
  },
  {
   "cell_type": "markdown",
   "id": "1b906b4a",
   "metadata": {},
   "source": [
    "### SAVING MODEL"
   ]
  },
  {
   "cell_type": "code",
   "execution_count": 136,
   "id": "6e6db441",
   "metadata": {},
   "outputs": [],
   "source": [
    "import joblib"
   ]
  },
  {
   "cell_type": "code",
   "execution_count": 137,
   "id": "3f72d2da",
   "metadata": {},
   "outputs": [
    {
     "data": {
      "text/plain": [
       "['Global Power Plant Classification.obj']"
      ]
     },
     "execution_count": 137,
     "metadata": {},
     "output_type": "execute_result"
    }
   ],
   "source": [
    "joblib.dump(best_rfc_grid.best_estimator_, 'Global Power Plant Classification.obj')"
   ]
  },
  {
   "cell_type": "code",
   "execution_count": null,
   "id": "d6a396d0",
   "metadata": {},
   "outputs": [],
   "source": []
  },
  {
   "cell_type": "code",
   "execution_count": null,
   "id": "d9acb7c9",
   "metadata": {},
   "outputs": [],
   "source": []
  }
 ],
 "metadata": {
  "kernelspec": {
   "display_name": "Python 3 (ipykernel)",
   "language": "python",
   "name": "python3"
  },
  "language_info": {
   "codemirror_mode": {
    "name": "ipython",
    "version": 3
   },
   "file_extension": ".py",
   "mimetype": "text/x-python",
   "name": "python",
   "nbconvert_exporter": "python",
   "pygments_lexer": "ipython3",
   "version": "3.9.13"
  }
 },
 "nbformat": 4,
 "nbformat_minor": 5
}
